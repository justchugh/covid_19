{
 "cells": [
  {
   "cell_type": "code",
   "execution_count": null,
   "id": "6b9e3e91",
   "metadata": {},
   "outputs": [],
   "source": [
    "import random\n",
    "import numpy as np\n",
    "from matplotlib import pyplot as plt\n",
    "import seaborn as sns"
   ]
  },
  {
   "cell_type": "code",
   "execution_count": null,
   "id": "5855b7d7",
   "metadata": {},
   "outputs": [],
   "source": [
    "Threshold0 = 4000\n",
    "l = []\n",
    "days = 60"
   ]
  },
  {
   "cell_type": "code",
   "execution_count": null,
   "id": "7eceddbb",
   "metadata": {},
   "outputs": [],
   "source": [
    "for i in range(1, days + 1):\n",
    "    a = random.randint(-1500, 2000)\n",
    "    tweets = Threshold0 + (a * random.random() * 2)\n",
    "    l.append(tweets)"
   ]
  },
  {
   "cell_type": "code",
   "execution_count": null,
   "id": "5d25ddd7",
   "metadata": {},
   "outputs": [],
   "source": [
    "x = np.array(list(range(1, days + 1)))\n",
    "LR = LinearRegression()"
   ]
  },
  {
   "cell_type": "code",
   "execution_count": null,
   "id": "dfb1aadc",
   "metadata": {},
   "outputs": [],
   "source": [
    "# Fit model\n",
    "# LR.fit(x.reshape(-1,1), np.array(l).reshape(-1,1))\n",
    "# m = LR.coef_\n",
    "# c = LR.intercept_"
   ]
  },
  {
   "cell_type": "code",
   "execution_count": null,
   "id": "5baaaa89",
   "metadata": {},
   "outputs": [],
   "source": [
    "# Predict values\n",
    "y1 = ((x * m) + c)[0]"
   ]
  },
  {
   "cell_type": "code",
   "execution_count": null,
   "id": "7cac1c5d",
   "metadata": {},
   "outputs": [],
   "source": [
    "plt.style.use('ggplot')\n",
    "plt.figure(figsize = (15, 8))\n",
    "plt.title('Number of Tweets per Day')\n",
    "plt.xlabel('Days')\n",
    "plt.ylabel('Tweets')\n",
    "plt.xlim([0.5,60.5])\n",
    "plt.ylim([-1,8000])"
   ]
  },
  {
   "cell_type": "code",
   "execution_count": null,
   "id": "ae7ed6f9",
   "metadata": {},
   "outputs": [],
   "source": [
    "# Plot values\n",
    "plt.plot(x, y1, 'b--', alpha = 0.4, linewidth = 2)\n",
    "plt.plot(x, l, color = 'c', alpha = 0.4, linewidth = 4)\n",
    "plt.scatter(x, l, color = 'k', alpha = 1)"
   ]
  },
  {
   "cell_type": "code",
   "execution_count": null,
   "id": "6682b9db",
   "metadata": {},
   "outputs": [],
   "source": [
    "# Display plot\n",
    "plt.show()"
   ]
  }
 ],
 "metadata": {},
 "nbformat": 4,
 "nbformat_minor": 5
}

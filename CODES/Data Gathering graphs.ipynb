{
 "cells": [
  {
   "cell_type": "code",
   "execution_count": null,
   "id": "815df1f1",
   "metadata": {},
   "outputs": [],
   "source": [
    "import random\n",
    "import numpy as np\n",
    "from matplotlib import pyplot as plt\n",
    "import seaborn as sns\n",
    "from sklearn.linear_model import LinearRegression"
   ]
  },
  {
   "cell_type": "code",
   "execution_count": null,
   "id": "59a42cba",
   "metadata": {},
   "outputs": [],
   "source": [
    "Threshold0 = 4000\n",
    "l = []\n",
    "days = 60"
   ]
  },
  {
   "cell_type": "code",
   "execution_count": null,
   "id": "2a41a317",
   "metadata": {},
   "outputs": [],
   "source": [
    "for i in range(1, days + 1):\n",
    "    a = random.randint(-1500, 2000)\n",
    "    tweets = Threshold0 + (a * random.random() * 2)\n",
    "    l.append(tweets)"
   ]
  },
  {
   "cell_type": "code",
   "execution_count": null,
   "id": "a6ea019e",
   "metadata": {},
   "outputs": [],
   "source": [
    "x = np.array(list(range(1, days + 1)))\n",
    "LR = LinearRegression()"
   ]
  },
  {
   "cell_type": "code",
   "execution_count": null,
   "id": "281df798",
   "metadata": {},
   "outputs": [],
   "source": [
    "LR.fit(x.reshape(-1,1), np.array(l).reshape(-1,1))\n",
    "m = LR.coef_\n",
    "c = LR.intercept_"
   ]
  },
  {
   "cell_type": "code",
   "execution_count": null,
   "id": "9debb830",
   "metadata": {},
   "outputs": [],
   "source": [
    "y1 = ((x * m) + c).flatten()"
   ]
  },
  {
   "cell_type": "code",
   "execution_count": null,
   "id": "3ff9f596",
   "metadata": {},
   "outputs": [],
   "source": [
    "plt.style.use('ggplot')\n",
    "plt.figure(figsize = (15, 8))\n",
    "plt.title('Number of Tweets per Day')\n",
    "plt.xlabel('Days')\n",
    "plt.ylabel('Tweets')\n",
    "plt.xlim([0.5,60.5])\n",
    "plt.ylim([-1,8000])"
   ]
  },
  {
   "cell_type": "code",
   "execution_count": null,
   "id": "8e7eb89c",
   "metadata": {},
   "outputs": [],
   "source": [
    "plt.plot(x, y1, 'b--', alpha = 0.4, linewidth = 2)\n",
    "plt.plot(x, l, color = 'c', alpha = 0.4, linewidth = 4)\n",
    "plt.scatter(x, l, color = 'k', alpha = 1)\n",
    "plt.show()"
   ]
  },
  {
   "cell_type": "code",
   "execution_count": null,
   "id": "db4cb7ab",
   "metadata": {},
   "outputs": [],
   "source": [
    "print(f'Total tweets in 60 days: {sum(l)}')\n",
    "print(f'Average tweets per day: {sum(l)/days}')"
   ]
  }
 ],
 "metadata": {},
 "nbformat": 4,
 "nbformat_minor": 5
}

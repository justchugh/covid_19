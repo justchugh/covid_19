{
 "cells": [
  {
   "cell_type": "code",
   "execution_count": null,
   "id": "61f741f1",
   "metadata": {},
   "outputs": [],
   "source": [
    "import pandas as pd"
   ]
  },
  {
   "cell_type": "code",
   "execution_count": null,
   "id": "a23279a5",
   "metadata": {},
   "outputs": [],
   "source": [
    "import numpy as np"
   ]
  },
  {
   "cell_type": "code",
   "execution_count": null,
   "id": "6fe9acc2",
   "metadata": {},
   "outputs": [],
   "source": [
    "import matplotlib.pyplot as plt"
   ]
  },
  {
   "cell_type": "code",
   "execution_count": null,
   "id": "32399776",
   "metadata": {},
   "outputs": [],
   "source": [
    "df = pd.read_excel('final.xlsx')"
   ]
  },
  {
   "cell_type": "code",
   "execution_count": null,
   "id": "df7de86f",
   "metadata": {},
   "outputs": [],
   "source": [
    "print(df.head())"
   ]
  },
  {
   "cell_type": "code",
   "execution_count": null,
   "id": "7396cc41",
   "metadata": {},
   "outputs": [],
   "source": [
    "df.info()"
   ]
  },
  {
   "cell_type": "code",
   "execution_count": null,
   "id": "1de3a50c",
   "metadata": {},
   "outputs": [],
   "source": [
    "df = df.drop('Unnamed: 0', axis=1)"
   ]
  },
  {
   "cell_type": "code",
   "execution_count": null,
   "id": "59ac1a7c",
   "metadata": {},
   "outputs": [],
   "source": [
    "print(df.head())"
   ]
  },
  {
   "cell_type": "code",
   "execution_count": null,
   "id": "e31982ec",
   "metadata": {},
   "outputs": [],
   "source": [
    "print(df.columns)"
   ]
  },
  {
   "cell_type": "code",
   "execution_count": null,
   "id": "3cbdc951",
   "metadata": {},
   "outputs": [],
   "source": [
    "duplicates = df['Tweets'].duplicated().sum()"
   ]
  },
  {
   "cell_type": "code",
   "execution_count": null,
   "id": "84514c1c",
   "metadata": {},
   "outputs": [],
   "source": [
    "print('Number of duplicates tweets in DataFrame:- ', duplicates)"
   ]
  },
  {
   "cell_type": "code",
   "execution_count": null,
   "id": "9c828034",
   "metadata": {},
   "outputs": [],
   "source": [
    "print(df['rt_count'].describe())"
   ]
  },
  {
   "cell_type": "code",
   "execution_count": null,
   "id": "b18736a3",
   "metadata": {},
   "outputs": [],
   "source": [
    "print(df['User_verified'].value_counts())"
   ]
  },
  {
   "cell_type": "code",
   "execution_count": null,
   "id": "d46c4042",
   "metadata": {},
   "outputs": [],
   "source": [
    "print(df['User_location'].describe())"
   ]
  },
  {
   "cell_type": "code",
   "execution_count": null,
   "id": "abb55515",
   "metadata": {},
   "outputs": [],
   "source": [
    "null_locations = df['User_location'].isnull().sum()"
   ]
  },
  {
   "cell_type": "code",
   "execution_count": null,
   "id": "5757423f",
   "metadata": {},
   "outputs": [],
   "source": [
    "print('Null Locations:', null_locations)"
   ]
  },
  {
   "cell_type": "code",
   "execution_count": null,
   "id": "305f295f",
   "metadata": {},
   "outputs": [],
   "source": [
    "print(df['User_location'].value_counts()[:20])"
   ]
  }
 ],
 "metadata": {},
 "nbformat": 4,
 "nbformat_minor": 5
}

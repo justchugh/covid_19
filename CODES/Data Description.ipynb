{
 "cells": [
  {
   "cell_type": "code",
   "execution_count": 2,
   "id": "piano-dakota",
   "metadata": {},
   "outputs": [],
   "source": [
    "import pandas as pd\n",
    "import numpy as np\n",
    "import matplotlib.pyplot as plt"
   ]
  },
  {
   "cell_type": "markdown",
   "id": "reported-harvey",
   "metadata": {},
   "source": [
    "# Data Description"
   ]
  },
  {
   "cell_type": "code",
   "execution_count": 3,
   "id": "personal-monaco",
   "metadata": {},
   "outputs": [],
   "source": [
    "df =  pd.read_excel('final.xlsx')"
   ]
  },
  {
   "cell_type": "code",
   "execution_count": 4,
   "id": "bibliographic-arabic",
   "metadata": {},
   "outputs": [
    {
     "data": {
      "text/html": [
       "<div>\n",
       "<style scoped>\n",
       "    .dataframe tbody tr th:only-of-type {\n",
       "        vertical-align: middle;\n",
       "    }\n",
       "\n",
       "    .dataframe tbody tr th {\n",
       "        vertical-align: top;\n",
       "    }\n",
       "\n",
       "    .dataframe thead th {\n",
       "        text-align: right;\n",
       "    }\n",
       "</style>\n",
       "<table border=\"1\" class=\"dataframe\">\n",
       "  <thead>\n",
       "    <tr style=\"text-align: right;\">\n",
       "      <th></th>\n",
       "      <th>Unnamed: 0</th>\n",
       "      <th>Tweets</th>\n",
       "      <th>User</th>\n",
       "      <th>User_statuses_count</th>\n",
       "      <th>user_followers</th>\n",
       "      <th>User_location</th>\n",
       "      <th>User_verified</th>\n",
       "      <th>fav_count</th>\n",
       "      <th>rt_count</th>\n",
       "      <th>tweet_date</th>\n",
       "    </tr>\n",
       "  </thead>\n",
       "  <tbody>\n",
       "    <tr>\n",
       "      <th>0</th>\n",
       "      <td>0</td>\n",
       "      <td>The farmers have also demanded the creation of...</td>\n",
       "      <td>Jimmy Kahlon</td>\n",
       "      <td>17649</td>\n",
       "      <td>334</td>\n",
       "      <td>NaN</td>\n",
       "      <td>False</td>\n",
       "      <td>0</td>\n",
       "      <td>0</td>\n",
       "      <td>2021-05-02 03:14:22</td>\n",
       "    </tr>\n",
       "    <tr>\n",
       "      <th>1</th>\n",
       "      <td>1</td>\n",
       "      <td>MSP is right of Farmers ,Agri sector has the a...</td>\n",
       "      <td>ςααɕհ</td>\n",
       "      <td>18490</td>\n",
       "      <td>124</td>\n",
       "      <td>NaN</td>\n",
       "      <td>False</td>\n",
       "      <td>0</td>\n",
       "      <td>0</td>\n",
       "      <td>2021-05-02 03:06:46</td>\n",
       "    </tr>\n",
       "    <tr>\n",
       "      <th>2</th>\n",
       "      <td>2</td>\n",
       "      <td>The farmers have also demanded the creation of...</td>\n",
       "      <td>Harbir Virk</td>\n",
       "      <td>18901</td>\n",
       "      <td>189</td>\n",
       "      <td>NaN</td>\n",
       "      <td>False</td>\n",
       "      <td>0</td>\n",
       "      <td>0</td>\n",
       "      <td>2021-05-02 03:04:12</td>\n",
       "    </tr>\n",
       "    <tr>\n",
       "      <th>3</th>\n",
       "      <td>3</td>\n",
       "      <td>The farmers have also demanded the creation of...</td>\n",
       "      <td>MG</td>\n",
       "      <td>4312</td>\n",
       "      <td>102</td>\n",
       "      <td>Planet Earth</td>\n",
       "      <td>False</td>\n",
       "      <td>0</td>\n",
       "      <td>0</td>\n",
       "      <td>2021-05-02 03:03:06</td>\n",
       "    </tr>\n",
       "    <tr>\n",
       "      <th>4</th>\n",
       "      <td>4</td>\n",
       "      <td>@UshaNirmala Same is the case with anything re...</td>\n",
       "      <td>sanjay singh</td>\n",
       "      <td>11216</td>\n",
       "      <td>1327</td>\n",
       "      <td>NaN</td>\n",
       "      <td>False</td>\n",
       "      <td>0</td>\n",
       "      <td>0</td>\n",
       "      <td>2021-05-02 02:56:35</td>\n",
       "    </tr>\n",
       "  </tbody>\n",
       "</table>\n",
       "</div>"
      ],
      "text/plain": [
       "   Unnamed: 0                                             Tweets  \\\n",
       "0           0  The farmers have also demanded the creation of...   \n",
       "1           1  MSP is right of Farmers ,Agri sector has the a...   \n",
       "2           2  The farmers have also demanded the creation of...   \n",
       "3           3  The farmers have also demanded the creation of...   \n",
       "4           4  @UshaNirmala Same is the case with anything re...   \n",
       "\n",
       "           User  User_statuses_count  user_followers User_location  \\\n",
       "0  Jimmy Kahlon                17649             334           NaN   \n",
       "1         ςααɕհ                18490             124           NaN   \n",
       "2   Harbir Virk                18901             189           NaN   \n",
       "3            MG                 4312             102  Planet Earth   \n",
       "4  sanjay singh                11216            1327           NaN   \n",
       "\n",
       "   User_verified  fav_count  rt_count          tweet_date  \n",
       "0          False          0         0 2021-05-02 03:14:22  \n",
       "1          False          0         0 2021-05-02 03:06:46  \n",
       "2          False          0         0 2021-05-02 03:04:12  \n",
       "3          False          0         0 2021-05-02 03:03:06  \n",
       "4          False          0         0 2021-05-02 02:56:35  "
      ]
     },
     "execution_count": 4,
     "metadata": {},
     "output_type": "execute_result"
    }
   ],
   "source": [
    "df.head()"
   ]
  },
  {
   "cell_type": "code",
   "execution_count": 5,
   "id": "funny-soccer",
   "metadata": {},
   "outputs": [
    {
     "name": "stdout",
     "output_type": "stream",
     "text": [
      "<class 'pandas.core.frame.DataFrame'>\n",
      "RangeIndex: 15174 entries, 0 to 15173\n",
      "Data columns (total 10 columns):\n",
      " #   Column               Non-Null Count  Dtype         \n",
      "---  ------               --------------  -----         \n",
      " 0   Unnamed: 0           15174 non-null  int64         \n",
      " 1   Tweets               15174 non-null  object        \n",
      " 2   User                 15173 non-null  object        \n",
      " 3   User_statuses_count  15174 non-null  int64         \n",
      " 4   user_followers       15174 non-null  int64         \n",
      " 5   User_location        10878 non-null  object        \n",
      " 6   User_verified        15174 non-null  bool          \n",
      " 7   fav_count            15174 non-null  int64         \n",
      " 8   rt_count             15174 non-null  int64         \n",
      " 9   tweet_date           15174 non-null  datetime64[ns]\n",
      "dtypes: bool(1), datetime64[ns](1), int64(5), object(3)\n",
      "memory usage: 1.1+ MB\n"
     ]
    }
   ],
   "source": [
    "#information about the Dataframe\n",
    "df.info()"
   ]
  },
  {
   "cell_type": "raw",
   "id": "brilliant-wagner",
   "metadata": {},
   "source": [
    "from above, we see there are some null value present in the columns User_loccation. And there is 10 columns in which unname 0 unwanted column."
   ]
  },
  {
   "cell_type": "code",
   "execution_count": 7,
   "id": "instant-morris",
   "metadata": {},
   "outputs": [],
   "source": [
    "#dropping unwanted columns from dataframe\n",
    "df = df.drop('Unnamed: 0',axis=1)"
   ]
  },
  {
   "cell_type": "code",
   "execution_count": 8,
   "id": "christian-collect",
   "metadata": {},
   "outputs": [
    {
     "data": {
      "text/html": [
       "<div>\n",
       "<style scoped>\n",
       "    .dataframe tbody tr th:only-of-type {\n",
       "        vertical-align: middle;\n",
       "    }\n",
       "\n",
       "    .dataframe tbody tr th {\n",
       "        vertical-align: top;\n",
       "    }\n",
       "\n",
       "    .dataframe thead th {\n",
       "        text-align: right;\n",
       "    }\n",
       "</style>\n",
       "<table border=\"1\" class=\"dataframe\">\n",
       "  <thead>\n",
       "    <tr style=\"text-align: right;\">\n",
       "      <th></th>\n",
       "      <th>Tweets</th>\n",
       "      <th>User</th>\n",
       "      <th>User_statuses_count</th>\n",
       "      <th>user_followers</th>\n",
       "      <th>User_location</th>\n",
       "      <th>User_verified</th>\n",
       "      <th>fav_count</th>\n",
       "      <th>rt_count</th>\n",
       "      <th>tweet_date</th>\n",
       "    </tr>\n",
       "  </thead>\n",
       "  <tbody>\n",
       "    <tr>\n",
       "      <th>0</th>\n",
       "      <td>The farmers have also demanded the creation of...</td>\n",
       "      <td>Jimmy Kahlon</td>\n",
       "      <td>17649</td>\n",
       "      <td>334</td>\n",
       "      <td>NaN</td>\n",
       "      <td>False</td>\n",
       "      <td>0</td>\n",
       "      <td>0</td>\n",
       "      <td>2021-05-02 03:14:22</td>\n",
       "    </tr>\n",
       "    <tr>\n",
       "      <th>1</th>\n",
       "      <td>MSP is right of Farmers ,Agri sector has the a...</td>\n",
       "      <td>ςααɕհ</td>\n",
       "      <td>18490</td>\n",
       "      <td>124</td>\n",
       "      <td>NaN</td>\n",
       "      <td>False</td>\n",
       "      <td>0</td>\n",
       "      <td>0</td>\n",
       "      <td>2021-05-02 03:06:46</td>\n",
       "    </tr>\n",
       "    <tr>\n",
       "      <th>2</th>\n",
       "      <td>The farmers have also demanded the creation of...</td>\n",
       "      <td>Harbir Virk</td>\n",
       "      <td>18901</td>\n",
       "      <td>189</td>\n",
       "      <td>NaN</td>\n",
       "      <td>False</td>\n",
       "      <td>0</td>\n",
       "      <td>0</td>\n",
       "      <td>2021-05-02 03:04:12</td>\n",
       "    </tr>\n",
       "    <tr>\n",
       "      <th>3</th>\n",
       "      <td>The farmers have also demanded the creation of...</td>\n",
       "      <td>MG</td>\n",
       "      <td>4312</td>\n",
       "      <td>102</td>\n",
       "      <td>Planet Earth</td>\n",
       "      <td>False</td>\n",
       "      <td>0</td>\n",
       "      <td>0</td>\n",
       "      <td>2021-05-02 03:03:06</td>\n",
       "    </tr>\n",
       "    <tr>\n",
       "      <th>4</th>\n",
       "      <td>@UshaNirmala Same is the case with anything re...</td>\n",
       "      <td>sanjay singh</td>\n",
       "      <td>11216</td>\n",
       "      <td>1327</td>\n",
       "      <td>NaN</td>\n",
       "      <td>False</td>\n",
       "      <td>0</td>\n",
       "      <td>0</td>\n",
       "      <td>2021-05-02 02:56:35</td>\n",
       "    </tr>\n",
       "  </tbody>\n",
       "</table>\n",
       "</div>"
      ],
      "text/plain": [
       "                                              Tweets          User  \\\n",
       "0  The farmers have also demanded the creation of...  Jimmy Kahlon   \n",
       "1  MSP is right of Farmers ,Agri sector has the a...         ςααɕհ   \n",
       "2  The farmers have also demanded the creation of...   Harbir Virk   \n",
       "3  The farmers have also demanded the creation of...            MG   \n",
       "4  @UshaNirmala Same is the case with anything re...  sanjay singh   \n",
       "\n",
       "   User_statuses_count  user_followers User_location  User_verified  \\\n",
       "0                17649             334           NaN          False   \n",
       "1                18490             124           NaN          False   \n",
       "2                18901             189           NaN          False   \n",
       "3                 4312             102  Planet Earth          False   \n",
       "4                11216            1327           NaN          False   \n",
       "\n",
       "   fav_count  rt_count          tweet_date  \n",
       "0          0         0 2021-05-02 03:14:22  \n",
       "1          0         0 2021-05-02 03:06:46  \n",
       "2          0         0 2021-05-02 03:04:12  \n",
       "3          0         0 2021-05-02 03:03:06  \n",
       "4          0         0 2021-05-02 02:56:35  "
      ]
     },
     "execution_count": 8,
     "metadata": {},
     "output_type": "execute_result"
    }
   ],
   "source": [
    "df.head()"
   ]
  },
  {
   "cell_type": "code",
   "execution_count": 10,
   "id": "professional-archives",
   "metadata": {},
   "outputs": [
    {
     "data": {
      "text/plain": [
       "Index(['Tweets', 'User', 'User_statuses_count', 'user_followers',\n",
       "       'User_location', 'User_verified', 'fav_count', 'rt_count',\n",
       "       'tweet_date'],\n",
       "      dtype='object')"
      ]
     },
     "execution_count": 10,
     "metadata": {},
     "output_type": "execute_result"
    }
   ],
   "source": [
    "#columns in dataframes\n",
    "df.columns"
   ]
  },
  {
   "cell_type": "code",
   "execution_count": 17,
   "id": "retained-position",
   "metadata": {},
   "outputs": [
    {
     "name": "stdout",
     "output_type": "stream",
     "text": [
      "Number of  duplicates tweets in dataframe:-  0\n"
     ]
    }
   ],
   "source": [
    "#Number of Duplicated in data\n",
    "print('Number of  duplicates tweets in dataframe:- ',df['Tweets'].duplicated().sum())\n"
   ]
  },
  {
   "cell_type": "code",
   "execution_count": 15,
   "id": "approved-petroleum",
   "metadata": {},
   "outputs": [
    {
     "data": {
      "text/plain": [
       "count    15174.000000\n",
       "mean         5.776064\n",
       "std         73.996573\n",
       "min          0.000000\n",
       "25%          0.000000\n",
       "50%          0.000000\n",
       "75%          1.000000\n",
       "max       4707.000000\n",
       "Name: rt_count, dtype: float64"
      ]
     },
     "execution_count": 15,
     "metadata": {},
     "output_type": "execute_result"
    }
   ],
   "source": [
    "#info of retweet \n",
    "df['rt_count'].describe()"
   ]
  },
  {
   "cell_type": "code",
   "execution_count": 18,
   "id": "cognitive-mumbai",
   "metadata": {},
   "outputs": [
    {
     "data": {
      "text/plain": [
       "False    13688\n",
       "True      1486\n",
       "Name: User_verified, dtype: int64"
      ]
     },
     "execution_count": 18,
     "metadata": {},
     "output_type": "execute_result"
    }
   ],
   "source": [
    "#number verified and non verified Users in dataframe\n",
    "df['User_verified'].value_counts()"
   ]
  },
  {
   "cell_type": "code",
   "execution_count": 21,
   "id": "interested-electric",
   "metadata": {},
   "outputs": [
    {
     "name": "stdout",
     "output_type": "stream",
     "text": [
      "count     10878\n",
      "unique     3240\n",
      "top       India\n",
      "freq       1195\n",
      "Name: User_location, dtype: object\n",
      "Null Location:- 4296\n"
     ]
    }
   ],
   "source": [
    "print(df['User_location'].describe())\n",
    "print('Null Location:-',df['User_location'].isnull().sum())"
   ]
  },
  {
   "cell_type": "raw",
   "id": "manual-athletics",
   "metadata": {},
   "source": [
    "From above, we see there is frequently tweets tweet from the india. and there are 3240 unique location in dataframe."
   ]
  },
  {
   "cell_type": "code",
   "execution_count": 20,
   "id": "governmental-hawaiian",
   "metadata": {},
   "outputs": [
    {
     "name": "stdout",
     "output_type": "stream",
     "text": [
      "Top 20 Location where frequently Tweets comes:-\n"
     ]
    },
    {
     "data": {
      "text/plain": [
       "India                       1195\n",
       "New Delhi, India             417\n",
       "Mumbai, India                350\n",
       "Mumbai                       245\n",
       "Bengaluru, India             210\n",
       "New Delhi                    173\n",
       "Hyderabad, India             138\n",
       "Pune, India                  120\n",
       "Chennai, India               113\n",
       "Bangalore                     79\n",
       "Jammu And Kashmir             75\n",
       "Chennai                       75\n",
       "Bhubaneshwar, India           62\n",
       "Jammu, Jammu And Kashmir      61\n",
       "Kolkata, India                60\n",
       "Delhi                         57\n",
       "Chandigarh, India             52\n",
       "Bhubaneswar                   51\n",
       "Pune                          50\n",
       "Bharat                        43\n",
       "Name: User_location, dtype: int64"
      ]
     },
     "execution_count": 20,
     "metadata": {},
     "output_type": "execute_result"
    }
   ],
   "source": [
    "print(\"Top 20 Location where frequently Tweets comes:-\")\n",
    "df['User_location'].value_counts()[:20]"
   ]
  },
  {
   "cell_type": "markdown",
   "id": "specified-panic",
   "metadata": {},
   "source": [
    "from above, we clearly see most of the Tweets related to covid19 comes from india."
   ]
  }
 ],
 "metadata": {
  "kernelspec": {
   "display_name": "Python 3",
   "language": "python",
   "name": "python3"
  },
  "language_info": {
   "codemirror_mode": {
    "name": "ipython",
    "version": 3
   },
   "file_extension": ".py",
   "mimetype": "text/x-python",
   "name": "python",
   "nbconvert_exporter": "python",
   "pygments_lexer": "ipython3",
   "version": "3.8.8"
  }
 },
 "nbformat": 4,
 "nbformat_minor": 5
}

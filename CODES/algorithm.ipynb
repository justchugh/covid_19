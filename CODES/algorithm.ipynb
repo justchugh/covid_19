{
 "cells": [
  {
   "cell_type": "code",
   "execution_count": null,
   "id": "cef3d908",
   "metadata": {},
   "outputs": [],
   "source": [
    "import pandas as pd"
   ]
  },
  {
   "cell_type": "code",
   "execution_count": null,
   "id": "bdf42aea",
   "metadata": {},
   "outputs": [],
   "source": [
    "import numpy as np"
   ]
  },
  {
   "cell_type": "code",
   "execution_count": null,
   "id": "ebf6bcac",
   "metadata": {},
   "outputs": [],
   "source": [
    "import seaborn as sns"
   ]
  },
  {
   "cell_type": "code",
   "execution_count": null,
   "id": "9ec10099",
   "metadata": {},
   "outputs": [],
   "source": [
    "import matplotlib.pyplot as plt"
   ]
  },
  {
   "cell_type": "code",
   "execution_count": null,
   "id": "d10a8f95",
   "metadata": {},
   "outputs": [],
   "source": [
    "import re"
   ]
  },
  {
   "cell_type": "code",
   "execution_count": null,
   "id": "a1db06e8",
   "metadata": {},
   "outputs": [],
   "source": [
    "from nltk.corpus import stopwords"
   ]
  },
  {
   "cell_type": "code",
   "execution_count": null,
   "id": "02a55f27",
   "metadata": {},
   "outputs": [],
   "source": [
    "from nltk.stem import WordNetLemmatizer"
   ]
  },
  {
   "cell_type": "code",
   "execution_count": null,
   "id": "e5f329bf",
   "metadata": {},
   "outputs": [],
   "source": [
    "from nltk.tokenize import word_tokenize"
   ]
  },
  {
   "cell_type": "code",
   "execution_count": null,
   "id": "4c3ecaf6",
   "metadata": {},
   "outputs": [],
   "source": [
    "from sklearn.feature_extraction.text import TfidfVectorizer"
   ]
  },
  {
   "cell_type": "code",
   "execution_count": null,
   "id": "51d2bc66",
   "metadata": {},
   "outputs": [],
   "source": [
    "tweets = pd.read_csv('final.csv')"
   ]
  },
  {
   "cell_type": "code",
   "execution_count": null,
   "id": "d2b7352d",
   "metadata": {},
   "outputs": [],
   "source": [
    "tweet = tweets.iloc[:, 1:]"
   ]
  },
  {
   "cell_type": "code",
   "execution_count": null,
   "id": "37c3dfb9",
   "metadata": {},
   "outputs": [],
   "source": [
    "def clean_text(txt):\n",
    "    txt = txt.lower()\n",
    "    txt = re.sub('(@[A-Za-z0-9]+)|(\\w+:\\/\\/\\S+)', ' ', txt)\n",
    "    txt = \"\".join([char for char in txt if char not in string.punctuation])\n",
    "    txt = re.sub('[0-9]+', ' ', txt)\n",
    "    words = word_tokenize(txt)\n",
    "    stop_words = set(stopwords.words('english'))\n",
    "    words = [w for w in words if not w in stop_words]\n",
    "    lem = WordNetLemmatizer()\n",
    "    words = [lem.lemmatize(w) for w in words]\n",
    "    return ' '.join(words)"
   ]
  },
  {
   "cell_type": "code",
   "execution_count": null,
   "id": "39ddee18",
   "metadata": {},
   "outputs": [],
   "source": [
    "tweet['Tweets'] = tweet['Tweets'].apply(lambda txt: clean_text(str(txt)))"
   ]
  },
  {
   "cell_type": "code",
   "execution_count": null,
   "id": "44107219",
   "metadata": {},
   "outputs": [],
   "source": [
    "tweet0 = tweet[:500]"
   ]
  },
  {
   "cell_type": "code",
   "execution_count": null,
   "id": "5dce46a5",
   "metadata": {},
   "outputs": [],
   "source": [
    "def iterator(lines):\n",
    "    n = len(lines)\n",
    "    lines_thresh = []\n",
    "    for line_i in range(n):\n",
    "        line_thresh = []\n",
    "        for line_j in range(n):\n",
    "            line1 = word_tokenize(lines[line_i])\n",
    "            line2 = word_tokenize(lines[line_j])\n",
    "            n_min = min(len(line1), len(line2))\n",
    "            line_bool = [line1[i] == line2[i] for i in range(n_min)]\n",
    "            thresh_true = round(line_bool.count(True) / len(line_bool), 2)\n",
    "            thresh_false = round(line_bool.count(False) / len(line_bool), 2)\n",
    "            line_thresh.append((thresh_true, thresh_false))\n",
    "        lines_thresh.append(line_thresh)\n",
    "    return lines_thresh"
   ]
  },
  {
   "cell_type": "code",
   "execution_count": null,
   "id": "f916f249",
   "metadata": {},
   "outputs": [],
   "source": [
    "lines_thresh = iterator(tweet0)"
   ]
  }
 ],
 "metadata": {},
 "nbformat": 4,
 "nbformat_minor": 5
}

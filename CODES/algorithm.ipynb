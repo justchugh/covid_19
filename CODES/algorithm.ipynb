{
 "cells": [
  {
   "cell_type": "code",
   "execution_count": null,
   "id": "5a1e4ed2",
   "metadata": {},
   "outputs": [],
   "source": [
    "import pandas as pd"
   ]
  },
  {
   "cell_type": "code",
   "execution_count": null,
   "id": "3c45b9c9",
   "metadata": {},
   "outputs": [],
   "source": [
    "import numpy as np"
   ]
  },
  {
   "cell_type": "code",
   "execution_count": null,
   "id": "22febed5",
   "metadata": {},
   "outputs": [],
   "source": [
    "import seaborn as sns"
   ]
  },
  {
   "cell_type": "code",
   "execution_count": null,
   "id": "06479f79",
   "metadata": {},
   "outputs": [],
   "source": [
    "import matplotlib.pyplot as plt"
   ]
  },
  {
   "cell_type": "code",
   "execution_count": null,
   "id": "75609354",
   "metadata": {},
   "outputs": [],
   "source": [
    "import re"
   ]
  },
  {
   "cell_type": "code",
   "execution_count": null,
   "id": "a71706f2",
   "metadata": {},
   "outputs": [],
   "source": [
    "from nltk.corpus import stopwords"
   ]
  },
  {
   "cell_type": "code",
   "execution_count": null,
   "id": "d6c94fee",
   "metadata": {},
   "outputs": [],
   "source": [
    "from nltk.stem import WordNetLemmatizer"
   ]
  },
  {
   "cell_type": "code",
   "execution_count": null,
   "id": "a92bc266",
   "metadata": {},
   "outputs": [],
   "source": [
    "from nltk.tokenize import word_tokenize"
   ]
  },
  {
   "cell_type": "code",
   "execution_count": null,
   "id": "c1ebde5b",
   "metadata": {},
   "outputs": [],
   "source": [
    "from sklearn.feature_extraction.text import TfidfVectorizer"
   ]
  },
  {
   "cell_type": "code",
   "execution_count": null,
   "id": "4caef7b7",
   "metadata": {},
   "outputs": [],
   "source": [
    "import string"
   ]
  },
  {
   "cell_type": "code",
   "execution_count": null,
   "id": "a09b8634",
   "metadata": {},
   "outputs": [],
   "source": [
    "tweets = pd.read_csv('final.csv')"
   ]
  },
  {
   "cell_type": "code",
   "execution_count": null,
   "id": "0ff023b5",
   "metadata": {},
   "outputs": [],
   "source": [
    "tweet = tweets.iloc[:, 1:]"
   ]
  },
  {
   "cell_type": "code",
   "execution_count": null,
   "id": "147e0271",
   "metadata": {},
   "outputs": [],
   "source": [
    "def clean_text(txt):\n",
    "    txt = txt.lower()\n",
    "    txt = re.sub('(@[A-Za-z0-9]+)|(\\w+:\\/\\/\\S+)', ' ', txt)\n",
    "    txt = \"\".join([char for char in txt if char not in string.punctuation])\n",
    "    txt = re.sub('[0-9]+', ' ', txt)\n",
    "    words = word_tokenize(txt)\n",
    "    stop_words = set(stopwords.words('english'))\n",
    "    words = [w for w in words if not w in stop_words]\n",
    "    lem = WordNetLemmatizer()\n",
    "    words = [lem.lemmatize(w) for w in words]\n",
    "    return ' '.join(words)"
   ]
  },
  {
   "cell_type": "code",
   "execution_count": null,
   "id": "413743a3",
   "metadata": {},
   "outputs": [],
   "source": [
    "tweet['Tweets'] = tweet['Tweets'].apply(lambda txt: clean_text(str(txt)))"
   ]
  },
  {
   "cell_type": "code",
   "execution_count": null,
   "id": "ef4bbf3b",
   "metadata": {},
   "outputs": [],
   "source": [
    "tweet0 = tweet[:500]"
   ]
  },
  {
   "cell_type": "code",
   "execution_count": null,
   "id": "5879a201",
   "metadata": {},
   "outputs": [],
   "source": [
    "def iterator(lines):\n",
    "    n = len(lines)\n",
    "    lines_thresh = []\n",
    "    for line_i in range(n):\n",
    "        line_thresh = []\n",
    "        for line_j in range(n):\n",
    "            line1 = word_tokenize(lines[line_i])\n",
    "            line2 = word_tokenize(lines[line_j])\n",
    "            n_min = min(len(line1), len(line2))\n",
    "            line_bool = [line1[i] == line2[i] for i in range(n_min)]\n",
    "            thresh_true = round(line_bool.count(True) / len(line_bool), 2)\n",
    "            thresh_false = round(line_bool.count(False) / len(line_bool), 2)\n",
    "            line_thresh.append((thresh_true, thresh_false))\n",
    "        lines_thresh.append(line_thresh)\n",
    "    return lines_thresh"
   ]
  },
  {
   "cell_type": "code",
   "execution_count": null,
   "id": "74164dbb",
   "metadata": {},
   "outputs": [],
   "source": [
    "lines_thresh = iterator(tweet0)"
   ]
  },
  {
   "cell_type": "code",
   "execution_count": null,
   "id": "ca8e1848",
   "metadata": {},
   "outputs": [],
   "source": [
    "len(lines_thresh)"
   ]
  },
  {
   "cell_type": "code",
   "execution_count": null,
   "id": "2f23758b",
   "metadata": {},
   "outputs": [],
   "source": [
    "lines_thresh[0]"
   ]
  },
  {
   "cell_type": "code",
   "execution_count": null,
   "id": "1527d0fd",
   "metadata": {},
   "outputs": [],
   "source": [
    "def filterer(lines_thresh):\n",
    "    lines_thresh_bool = []\n",
    "    for line_thresh in lines_thresh:\n",
    "        line_thresh_bool = []\n",
    "        for thresh in line_thresh:\n",
    "            if (thresh[0] <= 0.25) or (0.75 <= thresh[1]):\n",
    "                line_thresh_bool.append(False)\n",
    "            else:\n",
    "                line_thresh_bool.append(True)\n",
    "        lines_thresh_bool.append(line_thresh_bool)\n",
    "    return lines_thresh_bool"
   ]
  },
  {
   "cell_type": "code",
   "execution_count": null,
   "id": "9cff72aa",
   "metadata": {},
   "outputs": [],
   "source": [
    "lines_thresh_bool = filterer(lines_thresh)"
   ]
  },
  {
   "cell_type": "code",
   "execution_count": null,
   "id": "d4eaae85",
   "metadata": {},
   "outputs": [],
   "source": [
    "def extractor(lines, lines_thresh_bool):\n",
    "    tweet_lines_thresh_bool = pd.DataFrame(lines_thresh_bool.T)\n",
    "    tweet_lines_thresh_bool.insert(0, 'tweet', pd.DataFrame(np.array(lines)))\n",
    "    l = set()\n",
    "    for i in range(len(lines)):\n",
    "        d = tweet_lines_thresh_bool[tweet_lines_thresh_bool[i] == True]['tweet'].to_dict()\n",
    "        for k in d:\n",
    "            d[k] = len(word_tokenize(d[k].strip()))\n",
    "        d = dict(sorted(d.items(), key=lambda x: x[1], reverse=True))\n",
    "        l.add(list(d.keys())[0])\n",
    "    l = list(l)\n",
    "    refined_tweets = tweet_lines_thresh_bool.loc[l, 'tweet'].to_list()\n",
    "    return refined_tweets"
   ]
  },
  {
   "cell_type": "code",
   "execution_count": null,
   "id": "586c931a",
   "metadata": {},
   "outputs": [],
   "source": [
    "refined_tweets = extractor(tweet0, lines_thresh_bool)"
   ]
  },
  {
   "cell_type": "code",
   "execution_count": null,
   "id": "b9a8a52d",
   "metadata": {},
   "outputs": [],
   "source": [
    "len(refined_tweets)"
   ]
  },
  {
   "cell_type": "code",
   "execution_count": null,
   "id": "7308606f",
   "metadata": {},
   "outputs": [],
   "source": [
    "plt.figure(figsize=(10,10))"
   ]
  },
  {
   "cell_type": "code",
   "execution_count": null,
   "id": "426dbcb9",
   "metadata": {},
   "outputs": [],
   "source": [
    "sns.heatmap(lines_thresh_bool)"
   ]
  },
  {
   "cell_type": "code",
   "execution_count": null,
   "id": "e96e9251",
   "metadata": {},
   "outputs": [],
   "source": [
    "def algorithm(data):\n",
    "    lines_thresh = iterator(data)\n",
    "    lines_thresh_bool = filterer(lines_thresh)\n",
    "    refined_data = extractor(data, lines_thresh_bool)\n",
    "    return refined_data"
   ]
  },
  {
   "cell_type": "code",
   "execution_count": null,
   "id": "4b895e99",
   "metadata": {},
   "outputs": [],
   "source": [
    "st = time.time()"
   ]
  },
  {
   "cell_type": "code",
   "execution_count": null,
   "id": "7433b9b0",
   "metadata": {},
   "outputs": [],
   "source": [
    "refined_tweets = algorithm(tweet0)"
   ]
  },
  {
   "cell_type": "code",
   "execution_count": null,
   "id": "6231ba5c",
   "metadata": {},
   "outputs": [],
   "source": [
    "print('total time:', time.time() - st)"
   ]
  },
  {
   "cell_type": "code",
   "execution_count": null,
   "id": "60c85c12",
   "metadata": {},
   "outputs": [],
   "source": [
    "tweet0_sample = tweet0[:10]\n",
    "for t in tweet0_sample:\n",
    "    if t.startswith('farmer'):\n",
    "        print(t)"
   ]
  },
  {
   "cell_type": "code",
   "execution_count": null,
   "id": "62fe00db",
   "metadata": {},
   "outputs": [],
   "source": [
    "def phase_1(lines):\n",
    "    n = len(lines)\n",
    "    lines_thresh_bool = np.ones((n * n,), dtype=np.bool)\n",
    "    for i in range(n):\n",
    "        for j in range(i + 1, n):\n",
    "            line1 = lines[i]\n",
    "            n1 = len(line1)\n",
    "            line2 = lines[j]\n",
    "            n2 = len(line2)\n",
    "            n_max = max(n1, n2)\n",
    "            n_min = min(n1, n2)\n",
    "            count_true = 0\n",
    "            for k in range(n_min):\n",
    "                if line1[k] == line2[k]:\n",
    "                    count_true += 1\n",
    "            thresh_true = round(count_true / n_max, 2)\n",
    "            thresh_false = 1 - thresh_true\n",
    "            if (thresh_true <= 0.25) or (0.75 <= thresh_false):\n",
    "                lines_thresh_bool[(n * i) + j] = False\n",
    "                lines_thresh_bool[i + (n * j)] = False\n",
    "    return lines_thresh_bool.reshape(n, n)"
   ]
  },
  {
   "cell_type": "code",
   "execution_count": null,
   "id": "6479b514",
   "metadata": {},
   "outputs": [],
   "source": [
    "lines_thresh_bool_phase1 = phase_1(tweet0)"
   ]
  },
  {
   "cell_type": "code",
   "execution_count": null,
   "id": "db6d1a66",
   "metadata": {},
   "outputs": [],
   "source": [
    "plt.figure(figsize=(10,10))"
   ]
  },
  {
   "cell_type": "code",
   "execution_count": null,
   "id": "4c7cd858",
   "metadata": {},
   "outputs": [],
   "source": [
    "sns.heatmap(lines_thresh_bool_phase1)"
   ]
  }
 ],
 "metadata": {},
 "nbformat": 4,
 "nbformat_minor": 5
}

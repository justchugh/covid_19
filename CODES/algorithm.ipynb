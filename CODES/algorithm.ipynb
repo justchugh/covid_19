{
 "cells": [
  {
   "cell_type": "code",
   "execution_count": null,
   "id": "ac25d812",
   "metadata": {},
   "outputs": [],
   "source": [
    "import pandas as pd"
   ]
  },
  {
   "cell_type": "code",
   "execution_count": null,
   "id": "2291f579",
   "metadata": {},
   "outputs": [],
   "source": [
    "import numpy as np"
   ]
  },
  {
   "cell_type": "code",
   "execution_count": null,
   "id": "51148465",
   "metadata": {},
   "outputs": [],
   "source": [
    "import seaborn as sns"
   ]
  },
  {
   "cell_type": "code",
   "execution_count": null,
   "id": "e241f4e3",
   "metadata": {},
   "outputs": [],
   "source": [
    "import matplotlib.pyplot as plt"
   ]
  },
  {
   "cell_type": "code",
   "execution_count": null,
   "id": "bd2a2c51",
   "metadata": {},
   "outputs": [],
   "source": [
    "import re"
   ]
  },
  {
   "cell_type": "code",
   "execution_count": null,
   "id": "6dd868e9",
   "metadata": {},
   "outputs": [],
   "source": [
    "from nltk.corpus import stopwords"
   ]
  },
  {
   "cell_type": "code",
   "execution_count": null,
   "id": "194373b6",
   "metadata": {},
   "outputs": [],
   "source": [
    "from nltk.stem import WordNetLemmatizer"
   ]
  },
  {
   "cell_type": "code",
   "execution_count": null,
   "id": "4ef447c6",
   "metadata": {},
   "outputs": [],
   "source": [
    "from nltk.tokenize import word_tokenize"
   ]
  },
  {
   "cell_type": "code",
   "execution_count": null,
   "id": "718c28a4",
   "metadata": {},
   "outputs": [],
   "source": [
    "from sklearn.feature_extraction.text import TfidfVectorizer"
   ]
  },
  {
   "cell_type": "code",
   "execution_count": null,
   "id": "92c2698e",
   "metadata": {},
   "outputs": [],
   "source": [
    "import string"
   ]
  },
  {
   "cell_type": "code",
   "execution_count": null,
   "id": "6a11fac8",
   "metadata": {},
   "outputs": [],
   "source": [
    "tweets = pd.read_csv('final.csv')"
   ]
  },
  {
   "cell_type": "code",
   "execution_count": null,
   "id": "2161e350",
   "metadata": {},
   "outputs": [],
   "source": [
    "tweet = tweets.iloc[:, 1:]"
   ]
  },
  {
   "cell_type": "code",
   "execution_count": null,
   "id": "caa4f2e4",
   "metadata": {},
   "outputs": [],
   "source": [
    "def clean_text(txt):\n",
    "    txt = txt.lower()\n",
    "    txt = re.sub('(@[A-Za-z0-9]+)|(\\w+:\\/\\/\\S+)', ' ', txt)\n",
    "    txt = \"\".join([char for char in txt if char not in string.punctuation])\n",
    "    txt = re.sub('[0-9]+', ' ', txt)\n",
    "    words = word_tokenize(txt)\n",
    "    stop_words = set(stopwords.words('english'))\n",
    "    words = [w for w in words if not w in stop_words]\n",
    "    lem = WordNetLemmatizer()\n",
    "    words = [lem.lemmatize(w) for w in words]\n",
    "    return ' '.join(words)"
   ]
  },
  {
   "cell_type": "code",
   "execution_count": null,
   "id": "b942ea4d",
   "metadata": {},
   "outputs": [],
   "source": [
    "tweet['Tweets'] = tweet['Tweets'].apply(lambda txt: clean_text(str(txt)))"
   ]
  },
  {
   "cell_type": "code",
   "execution_count": null,
   "id": "557cd84d",
   "metadata": {},
   "outputs": [],
   "source": [
    "tweet0 = tweet[:500]"
   ]
  },
  {
   "cell_type": "code",
   "execution_count": null,
   "id": "ac9d9705",
   "metadata": {},
   "outputs": [],
   "source": [
    "def iterator(lines):\n",
    "    n = len(lines)\n",
    "    lines_thresh = []\n",
    "    for line_i in range(n):\n",
    "        line_thresh = []\n",
    "        for line_j in range(n):\n",
    "            line1 = word_tokenize(lines[line_i])\n",
    "            line2 = word_tokenize(lines[line_j])\n",
    "            n_min = min(len(line1), len(line2))\n",
    "            line_bool = [line1[i] == line2[i] for i in range(n_min)]\n",
    "            thresh_true = round(line_bool.count(True) / len(line_bool), 2)\n",
    "            thresh_false = round(line_bool.count(False) / len(line_bool), 2)\n",
    "            line_thresh.append((thresh_true, thresh_false))\n",
    "        lines_thresh.append(line_thresh)\n",
    "    return lines_thresh"
   ]
  },
  {
   "cell_type": "code",
   "execution_count": null,
   "id": "350f97d5",
   "metadata": {},
   "outputs": [],
   "source": [
    "lines_thresh = iterator(tweet0)"
   ]
  },
  {
   "cell_type": "code",
   "execution_count": null,
   "id": "ef8db4b3",
   "metadata": {},
   "outputs": [],
   "source": [
    "len(lines_thresh)"
   ]
  },
  {
   "cell_type": "code",
   "execution_count": null,
   "id": "7e8dfbb2",
   "metadata": {},
   "outputs": [],
   "source": [
    "lines_thresh[0]"
   ]
  },
  {
   "cell_type": "code",
   "execution_count": null,
   "id": "eed244d8",
   "metadata": {},
   "outputs": [],
   "source": [
    "def filterer(lines_thresh):\n",
    "    lines_thresh_bool = []\n",
    "    for line_thresh in lines_thresh:\n",
    "        line_thresh_bool = []\n",
    "        for thresh in line_thresh:\n",
    "            if (thresh[0] <= 0.25) or (0.75 <= thresh[1]):\n",
    "                line_thresh_bool.append(False)\n",
    "            else:\n",
    "                line_thresh_bool.append(True)\n",
    "        lines_thresh_bool.append(line_thresh_bool)\n",
    "    return lines_thresh_bool"
   ]
  },
  {
   "cell_type": "code",
   "execution_count": null,
   "id": "a7625257",
   "metadata": {},
   "outputs": [],
   "source": [
    "lines_thresh_bool = filterer(lines_thresh)"
   ]
  },
  {
   "cell_type": "code",
   "execution_count": null,
   "id": "96bd6eb0",
   "metadata": {},
   "outputs": [],
   "source": [
    "def extractor(lines, lines_thresh_bool):\n",
    "    tweet_lines_thresh_bool = pd.DataFrame(lines_thresh_bool.T)\n",
    "    tweet_lines_thresh_bool.insert(0, 'tweet', pd.DataFrame(np.array(lines)))\n",
    "    l = set()\n",
    "    for i in range(len(lines)):\n",
    "        d = tweet_lines_thresh_bool[tweet_lines_thresh_bool[i] == True]['tweet'].to_dict()\n",
    "        for k in d:\n",
    "            d[k] = len(word_tokenize(d[k].strip()))\n",
    "        d = dict(sorted(d.items(), key=lambda x: x[1], reverse=True))\n",
    "        l.add(list(d.keys())[0])\n",
    "    l = list(l)\n",
    "    refined_tweets = tweet_lines_thresh_bool.loc[l, 'tweet'].to_list()\n",
    "    return refined_tweets"
   ]
  },
  {
   "cell_type": "code",
   "execution_count": null,
   "id": "56cddfdc",
   "metadata": {},
   "outputs": [],
   "source": [
    "refined_tweets = extractor(tweet0, lines_thresh_bool)"
   ]
  },
  {
   "cell_type": "code",
   "execution_count": null,
   "id": "0bce4113",
   "metadata": {},
   "outputs": [],
   "source": [
    "len(refined_tweets)"
   ]
  },
  {
   "cell_type": "code",
   "execution_count": null,
   "id": "8631aa33",
   "metadata": {},
   "outputs": [],
   "source": [
    "plt.figure(figsize=(10,10))"
   ]
  },
  {
   "cell_type": "code",
   "execution_count": null,
   "id": "cb63b934",
   "metadata": {},
   "outputs": [],
   "source": [
    "sns.heatmap(lines_thresh_bool)"
   ]
  },
  {
   "cell_type": "code",
   "execution_count": null,
   "id": "e72fd942",
   "metadata": {},
   "outputs": [],
   "source": [
    "def algorithm(data):\n",
    "    lines_thresh = iterator(data)\n",
    "    lines_thresh_bool = filterer(lines_thresh)\n",
    "    refined_data = extractor(data, lines_thresh_bool)\n",
    "    return refined_data"
   ]
  },
  {
   "cell_type": "code",
   "execution_count": null,
   "id": "764a29b2",
   "metadata": {},
   "outputs": [],
   "source": [
    "st = time.time()"
   ]
  },
  {
   "cell_type": "code",
   "execution_count": null,
   "id": "26499c8d",
   "metadata": {},
   "outputs": [],
   "source": [
    "refined_tweets = algorithm(tweet0)"
   ]
  },
  {
   "cell_type": "code",
   "execution_count": null,
   "id": "639073c3",
   "metadata": {},
   "outputs": [],
   "source": [
    "print('total time:', time.time() - st)"
   ]
  },
  {
   "cell_type": "code",
   "execution_count": null,
   "id": "6c880a0d",
   "metadata": {},
   "outputs": [],
   "source": [
    "tweet0_sample = tweet0[:10]\n",
    "for t in tweet0_sample:\n",
    "    if t.startswith('farmer'):\n",
    "        print(t)"
   ]
  }
 ],
 "metadata": {},
 "nbformat": 4,
 "nbformat_minor": 5
}

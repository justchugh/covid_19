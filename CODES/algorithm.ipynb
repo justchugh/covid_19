{
 "cells": [
  {
   "cell_type": "code",
   "execution_count": null,
   "id": "0aee5d1e",
   "metadata": {},
   "outputs": [],
   "source": [
    "import pandas as pd"
   ]
  },
  {
   "cell_type": "code",
   "execution_count": null,
   "id": "7474b385",
   "metadata": {},
   "outputs": [],
   "source": [
    "import numpy as np"
   ]
  },
  {
   "cell_type": "code",
   "execution_count": null,
   "id": "4a8903d4",
   "metadata": {},
   "outputs": [],
   "source": [
    "import seaborn as sns"
   ]
  },
  {
   "cell_type": "code",
   "execution_count": null,
   "id": "1c0f4e38",
   "metadata": {},
   "outputs": [],
   "source": [
    "import matplotlib.pyplot as plt"
   ]
  },
  {
   "cell_type": "code",
   "execution_count": null,
   "id": "93eeff43",
   "metadata": {},
   "outputs": [],
   "source": [
    "import re"
   ]
  },
  {
   "cell_type": "code",
   "execution_count": null,
   "id": "50d09745",
   "metadata": {},
   "outputs": [],
   "source": [
    "from nltk.corpus import stopwords"
   ]
  },
  {
   "cell_type": "code",
   "execution_count": null,
   "id": "d9e0610d",
   "metadata": {},
   "outputs": [],
   "source": [
    "from nltk.stem import WordNetLemmatizer"
   ]
  },
  {
   "cell_type": "code",
   "execution_count": null,
   "id": "71322ca9",
   "metadata": {},
   "outputs": [],
   "source": [
    "from nltk.tokenize import word_tokenize"
   ]
  },
  {
   "cell_type": "code",
   "execution_count": null,
   "id": "67cc2b11",
   "metadata": {},
   "outputs": [],
   "source": [
    "from sklearn.feature_extraction.text import TfidfVectorizer"
   ]
  },
  {
   "cell_type": "code",
   "execution_count": null,
   "id": "3c7b924d",
   "metadata": {},
   "outputs": [],
   "source": [
    "import string"
   ]
  },
  {
   "cell_type": "code",
   "execution_count": null,
   "id": "4dbe104c",
   "metadata": {},
   "outputs": [],
   "source": [
    "tweets = pd.read_csv('final.csv')"
   ]
  },
  {
   "cell_type": "code",
   "execution_count": null,
   "id": "3340c63d",
   "metadata": {},
   "outputs": [],
   "source": [
    "tweet = tweets.iloc[:, 1:]"
   ]
  },
  {
   "cell_type": "code",
   "execution_count": null,
   "id": "d09784a0",
   "metadata": {},
   "outputs": [],
   "source": [
    "def clean_text(txt):\n",
    "    txt = txt.lower()\n",
    "    txt = re.sub('(@[A-Za-z0-9]+)|(\\w+:\\/\\/\\S+)', ' ', txt)\n",
    "    txt = \"\".join([char for char in txt if char not in string.punctuation])\n",
    "    txt = re.sub('[0-9]+', ' ', txt)\n",
    "    words = word_tokenize(txt)\n",
    "    stop_words = set(stopwords.words('english'))\n",
    "    words = [w for w in words if not w in stop_words]\n",
    "    lem = WordNetLemmatizer()\n",
    "    words = [lem.lemmatize(w) for w in words]\n",
    "    return ' '.join(words)"
   ]
  },
  {
   "cell_type": "code",
   "execution_count": null,
   "id": "2d75754b",
   "metadata": {},
   "outputs": [],
   "source": [
    "tweet['Tweets'] = tweet['Tweets'].apply(lambda txt: clean_text(str(txt)))"
   ]
  },
  {
   "cell_type": "code",
   "execution_count": null,
   "id": "3d276c51",
   "metadata": {},
   "outputs": [],
   "source": [
    "tweet0 = tweet[:500]"
   ]
  },
  {
   "cell_type": "code",
   "execution_count": null,
   "id": "09bb5cc6",
   "metadata": {},
   "outputs": [],
   "source": [
    "def iterator(lines):\n",
    "    n = len(lines)\n",
    "    lines_thresh = []\n",
    "    for line_i in range(n):\n",
    "        line_thresh = []\n",
    "        for line_j in range(n):\n",
    "            line1 = word_tokenize(lines[line_i])\n",
    "            line2 = word_tokenize(lines[line_j])\n",
    "            n_min = min(len(line1), len(line2))\n",
    "            line_bool = [line1[i] == line2[i] for i in range(n_min)]\n",
    "            thresh_true = round(line_bool.count(True) / len(line_bool), 2)\n",
    "            thresh_false = round(line_bool.count(False) / len(line_bool), 2)\n",
    "            line_thresh.append((thresh_true, thresh_false))\n",
    "        lines_thresh.append(line_thresh)\n",
    "    return lines_thresh"
   ]
  },
  {
   "cell_type": "code",
   "execution_count": null,
   "id": "920bafe2",
   "metadata": {},
   "outputs": [],
   "source": [
    "lines_thresh = iterator(tweet0)"
   ]
  },
  {
   "cell_type": "code",
   "execution_count": null,
   "id": "b261b05d",
   "metadata": {},
   "outputs": [],
   "source": [
    "len(lines_thresh)"
   ]
  },
  {
   "cell_type": "code",
   "execution_count": null,
   "id": "0ffe3ce6",
   "metadata": {},
   "outputs": [],
   "source": [
    "lines_thresh[0]"
   ]
  },
  {
   "cell_type": "code",
   "execution_count": null,
   "id": "3b1dcfac",
   "metadata": {},
   "outputs": [],
   "source": [
    "def filterer(lines_thresh):\n",
    "    lines_thresh_bool = []\n",
    "    for line_thresh in lines_thresh:\n",
    "        line_thresh_bool = []\n",
    "        for thresh in line_thresh:\n",
    "            if (thresh[0] <= 0.25) or (0.75 <= thresh[1]):\n",
    "                line_thresh_bool.append(False)\n",
    "            else:\n",
    "                line_thresh_bool.append(True)\n",
    "        lines_thresh_bool.append(line_thresh_bool)\n",
    "    return lines_thresh_bool"
   ]
  },
  {
   "cell_type": "code",
   "execution_count": null,
   "id": "8e9d003c",
   "metadata": {},
   "outputs": [],
   "source": [
    "lines_thresh_bool = filterer(lines_thresh)"
   ]
  },
  {
   "cell_type": "code",
   "execution_count": null,
   "id": "8ed34da6",
   "metadata": {},
   "outputs": [],
   "source": [
    "def extractor(lines, lines_thresh_bool):\n",
    "    tweet_lines_thresh_bool = pd.DataFrame(lines_thresh_bool.T)\n",
    "    tweet_lines_thresh_bool.insert(0, 'tweet', pd.DataFrame(np.array(lines)))\n",
    "    l = set()\n",
    "    for i in range(len(lines)):\n",
    "        d = tweet_lines_thresh_bool[tweet_lines_thresh_bool[i] == True]['tweet'].to_dict()\n",
    "        for k in d:\n",
    "            d[k] = len(word_tokenize(d[k].strip()))\n",
    "        d = dict(sorted(d.items(), key=lambda x: x[1], reverse=True))\n",
    "        l.add(list(d.keys())[0])\n",
    "    l = list(l)\n",
    "    refined_tweets = tweet_lines_thresh_bool.loc[l, 'tweet'].to_list()\n",
    "    return refined_tweets"
   ]
  },
  {
   "cell_type": "code",
   "execution_count": null,
   "id": "52ecc59f",
   "metadata": {},
   "outputs": [],
   "source": [
    "refined_tweets = extractor(tweet0, lines_thresh_bool)"
   ]
  },
  {
   "cell_type": "code",
   "execution_count": null,
   "id": "bd7ffd8a",
   "metadata": {},
   "outputs": [],
   "source": [
    "len(refined_tweets)"
   ]
  },
  {
   "cell_type": "code",
   "execution_count": null,
   "id": "f6126344",
   "metadata": {},
   "outputs": [],
   "source": [
    "plt.figure(figsize=(10,10))"
   ]
  },
  {
   "cell_type": "code",
   "execution_count": null,
   "id": "6e0f0587",
   "metadata": {},
   "outputs": [],
   "source": [
    "sns.heatmap(lines_thresh_bool)"
   ]
  },
  {
   "cell_type": "code",
   "execution_count": null,
   "id": "04c18e35",
   "metadata": {},
   "outputs": [],
   "source": [
    "def algorithm(data):\n",
    "    lines_thresh = iterator(data)\n",
    "    lines_thresh_bool = filterer(lines_thresh)\n",
    "    refined_data = extractor(data, lines_thresh_bool)\n",
    "    return refined_data"
   ]
  },
  {
   "cell_type": "code",
   "execution_count": null,
   "id": "cca96865",
   "metadata": {},
   "outputs": [],
   "source": [
    "st = time.time()"
   ]
  },
  {
   "cell_type": "code",
   "execution_count": null,
   "id": "0f38094f",
   "metadata": {},
   "outputs": [],
   "source": [
    "refined_tweets = algorithm(tweet0)"
   ]
  },
  {
   "cell_type": "code",
   "execution_count": null,
   "id": "43be4d64",
   "metadata": {},
   "outputs": [],
   "source": [
    "print('total time:', time.time() - st)"
   ]
  },
  {
   "cell_type": "code",
   "execution_count": null,
   "id": "64704440",
   "metadata": {},
   "outputs": [],
   "source": [
    "tweet0_sample = tweet0[:10]\n",
    "for t in tweet0_sample:\n",
    "    if t.startswith('farmer'):\n",
    "        print(t)"
   ]
  },
  {
   "cell_type": "code",
   "execution_count": null,
   "id": "c60726a4",
   "metadata": {},
   "outputs": [],
   "source": [
    "def phase_1(lines):\n",
    "    n = len(lines)\n",
    "    lines_thresh_bool = np.ones((n * n,), dtype=np.bool)\n",
    "    for i in range(n):\n",
    "        for j in range(i + 1, n):\n",
    "            line1 = lines[i]\n",
    "            n1 = len(line1)\n",
    "            line2 = lines[j]\n",
    "            n2 = len(line2)\n",
    "            n_max = max(n1, n2)\n",
    "            n_min = min(n1, n2)\n",
    "            count_true = 0\n",
    "            for k in range(n_min):\n",
    "                if line1[k] == line2[k]:\n",
    "                    count_true += 1\n",
    "            thresh_true = round(count_true / n_max, 2)\n",
    "            thresh_false = 1 - thresh_true\n",
    "            if (thresh_true <= 0.25) or (0.75 <= thresh_false):\n",
    "                lines_thresh_bool[(n * i) + j] = False\n",
    "                lines_thresh_bool[i + (n * j)] = False\n",
    "    return lines_thresh_bool.reshape(n, n)"
   ]
  },
  {
   "cell_type": "code",
   "execution_count": null,
   "id": "9e05eafa",
   "metadata": {},
   "outputs": [],
   "source": [
    "lines_thresh_bool_phase1 = phase_1(tweet0)"
   ]
  },
  {
   "cell_type": "code",
   "execution_count": null,
   "id": "5c54031b",
   "metadata": {},
   "outputs": [],
   "source": [
    "plt.figure(figsize=(10,10))"
   ]
  },
  {
   "cell_type": "code",
   "execution_count": null,
   "id": "06e95aa0",
   "metadata": {},
   "outputs": [],
   "source": [
    "sns.heatmap(lines_thresh_bool_phase1)"
   ]
  },
  {
   "cell_type": "code",
   "execution_count": null,
   "id": "b004f3c8",
   "metadata": {},
   "outputs": [],
   "source": [
    "def phase_2(lines, lines_thresh_bool):\n",
    "    tweet_lines_thresh_bool = pd.DataFrame(lines_thresh_bool.T)\n",
    "    tweet_lines_thresh_bool.insert(0, 'tweet', pd.DataFrame(np.array(lines)))\n",
    "    l = set()\n",
    "    for i in range(len(lines)):\n",
    "        d = tweet_lines_thresh_bool[tweet_lines_thresh_bool[i] == True]['tweet'].to_dict()\n",
    "        for k in d:\n",
    "            d[k] = len(d[k])\n",
    "        d = dict(sorted(d.items(), key=lambda x: x[1], reverse=True))\n",
    "        l.add(list(d.keys())[0])\n",
    "    l = list(l)\n",
    "    refined_tweets = tweet_lines_thresh_bool.loc[l, 'tweet'].to_list()\n",
    "    return refined_tweets, l"
   ]
  },
  {
   "cell_type": "code",
   "execution_count": null,
   "id": "59832bfd",
   "metadata": {},
   "outputs": [],
   "source": [
    "refined_tweets_phase2, l_phase2 = phase_2(tweet0, lines_thresh_bool_phase1)"
   ]
  },
  {
   "cell_type": "code",
   "execution_count": null,
   "id": "055c18f3",
   "metadata": {},
   "outputs": [],
   "source": [
    "len(refined_tweets_phase2)"
   ]
  },
  {
   "cell_type": "code",
   "execution_count": null,
   "id": "40e8825a",
   "metadata": {},
   "outputs": [],
   "source": [
    "tweets.iloc[l_phase2,].to_csv('output_after_algorithm_of_tweets.csv', index=False)"
   ]
  },
  {
   "cell_type": "code",
   "execution_count": null,
   "id": "782dc56a",
   "metadata": {},
   "outputs": [],
   "source": [
    "print('Phase 1 and Phase 2 completed')"
   ]
  }
 ],
 "metadata": {},
 "nbformat": 4,
 "nbformat_minor": 5
}

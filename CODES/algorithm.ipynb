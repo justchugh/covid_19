{
 "cells": [
  {
   "cell_type": "code",
   "execution_count": null,
   "id": "6f3a2770",
   "metadata": {},
   "outputs": [],
   "source": [
    "import pandas as pd"
   ]
  },
  {
   "cell_type": "code",
   "execution_count": null,
   "id": "e7ad02f2",
   "metadata": {},
   "outputs": [],
   "source": [
    "import numpy as np"
   ]
  },
  {
   "cell_type": "code",
   "execution_count": null,
   "id": "ce0661a2",
   "metadata": {},
   "outputs": [],
   "source": [
    "import seaborn as sns"
   ]
  },
  {
   "cell_type": "code",
   "execution_count": null,
   "id": "84ab73a0",
   "metadata": {},
   "outputs": [],
   "source": [
    "import matplotlib.pyplot as plt"
   ]
  },
  {
   "cell_type": "code",
   "execution_count": null,
   "id": "c9fb0171",
   "metadata": {},
   "outputs": [],
   "source": [
    "import re"
   ]
  },
  {
   "cell_type": "code",
   "execution_count": null,
   "id": "ba7a5cab",
   "metadata": {},
   "outputs": [],
   "source": [
    "from nltk.corpus import stopwords"
   ]
  },
  {
   "cell_type": "code",
   "execution_count": null,
   "id": "3d0463f7",
   "metadata": {},
   "outputs": [],
   "source": [
    "from nltk.stem import WordNetLemmatizer"
   ]
  },
  {
   "cell_type": "code",
   "execution_count": null,
   "id": "dc415d0a",
   "metadata": {},
   "outputs": [],
   "source": [
    "from nltk.tokenize import word_tokenize"
   ]
  },
  {
   "cell_type": "code",
   "execution_count": null,
   "id": "401d7779",
   "metadata": {},
   "outputs": [],
   "source": [
    "from sklearn.feature_extraction.text import TfidfVectorizer"
   ]
  },
  {
   "cell_type": "code",
   "execution_count": null,
   "id": "7b59739b",
   "metadata": {},
   "outputs": [],
   "source": [
    "import string"
   ]
  },
  {
   "cell_type": "code",
   "execution_count": null,
   "id": "3fecda41",
   "metadata": {},
   "outputs": [],
   "source": [
    "tweets = pd.read_csv('final.csv')"
   ]
  },
  {
   "cell_type": "code",
   "execution_count": null,
   "id": "0cfc690c",
   "metadata": {},
   "outputs": [],
   "source": [
    "tweet = tweets.iloc[:, 1:]"
   ]
  },
  {
   "cell_type": "code",
   "execution_count": null,
   "id": "90248362",
   "metadata": {},
   "outputs": [],
   "source": [
    "def clean_text(txt):\n",
    "    txt = txt.lower()\n",
    "    txt = re.sub('(@[A-Za-z0-9]+)|(\\w+:\\/\\/\\S+)', ' ', txt)\n",
    "    txt = \"\".join([char for char in txt if char not in string.punctuation])\n",
    "    txt = re.sub('[0-9]+', ' ', txt)\n",
    "    words = word_tokenize(txt)\n",
    "    stop_words = set(stopwords.words('english'))\n",
    "    words = [w for w in words if not w in stop_words]\n",
    "    lem = WordNetLemmatizer()\n",
    "    words = [lem.lemmatize(w) for w in words]\n",
    "    return ' '.join(words)"
   ]
  },
  {
   "cell_type": "code",
   "execution_count": null,
   "id": "4a18556e",
   "metadata": {},
   "outputs": [],
   "source": [
    "tweet['Tweets'] = tweet['Tweets'].apply(lambda txt: clean_text(str(txt)))"
   ]
  },
  {
   "cell_type": "code",
   "execution_count": null,
   "id": "eae9eb00",
   "metadata": {},
   "outputs": [],
   "source": [
    "tweet0 = tweet[:500]"
   ]
  },
  {
   "cell_type": "code",
   "execution_count": null,
   "id": "a3593604",
   "metadata": {},
   "outputs": [],
   "source": [
    "def iterator(lines):\n",
    "    n = len(lines)\n",
    "    lines_thresh = []\n",
    "    for line_i in range(n):\n",
    "        line_thresh = []\n",
    "        for line_j in range(n):\n",
    "            line1 = word_tokenize(lines[line_i])\n",
    "            line2 = word_tokenize(lines[line_j])\n",
    "            n_min = min(len(line1), len(line2))\n",
    "            line_bool = [line1[i] == line2[i] for i in range(n_min)]\n",
    "            thresh_true = round(line_bool.count(True) / len(line_bool), 2)\n",
    "            thresh_false = round(line_bool.count(False) / len(line_bool), 2)\n",
    "            line_thresh.append((thresh_true, thresh_false))\n",
    "        lines_thresh.append(line_thresh)\n",
    "    return lines_thresh"
   ]
  },
  {
   "cell_type": "code",
   "execution_count": null,
   "id": "2286978e",
   "metadata": {},
   "outputs": [],
   "source": [
    "lines_thresh = iterator(tweet0)"
   ]
  },
  {
   "cell_type": "code",
   "execution_count": null,
   "id": "c7852d5a",
   "metadata": {},
   "outputs": [],
   "source": [
    "len(lines_thresh)"
   ]
  },
  {
   "cell_type": "code",
   "execution_count": null,
   "id": "d2d9b979",
   "metadata": {},
   "outputs": [],
   "source": [
    "lines_thresh[0]"
   ]
  },
  {
   "cell_type": "code",
   "execution_count": null,
   "id": "c75ac443",
   "metadata": {},
   "outputs": [],
   "source": [
    "def filterer(lines_thresh):\n",
    "    lines_thresh_bool = []\n",
    "    for line_thresh in lines_thresh:\n",
    "        line_thresh_bool = []\n",
    "        for thresh in line_thresh:\n",
    "            if (thresh[0] <= 0.25) or (0.75 <= thresh[1]):\n",
    "                line_thresh_bool.append(False)\n",
    "            else:\n",
    "                line_thresh_bool.append(True)\n",
    "        lines_thresh_bool.append(line_thresh_bool)\n",
    "    return lines_thresh_bool"
   ]
  },
  {
   "cell_type": "code",
   "execution_count": null,
   "id": "1393b009",
   "metadata": {},
   "outputs": [],
   "source": [
    "lines_thresh_bool = filterer(lines_thresh)"
   ]
  }
 ],
 "metadata": {},
 "nbformat": 4,
 "nbformat_minor": 5
}

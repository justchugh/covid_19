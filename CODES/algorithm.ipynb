{
 "cells": [
  {
   "cell_type": "code",
   "execution_count": null,
   "id": "b7edef89",
   "metadata": {},
   "outputs": [],
   "source": [
    "import pandas as pd"
   ]
  },
  {
   "cell_type": "code",
   "execution_count": null,
   "id": "58698532",
   "metadata": {},
   "outputs": [],
   "source": [
    "import numpy as np"
   ]
  },
  {
   "cell_type": "code",
   "execution_count": null,
   "id": "f371df14",
   "metadata": {},
   "outputs": [],
   "source": [
    "import seaborn as sns"
   ]
  },
  {
   "cell_type": "code",
   "execution_count": null,
   "id": "d802d788",
   "metadata": {},
   "outputs": [],
   "source": [
    "import matplotlib.pyplot as plt"
   ]
  },
  {
   "cell_type": "code",
   "execution_count": null,
   "id": "22e41080",
   "metadata": {},
   "outputs": [],
   "source": [
    "import re"
   ]
  },
  {
   "cell_type": "code",
   "execution_count": null,
   "id": "97f521a0",
   "metadata": {},
   "outputs": [],
   "source": [
    "from nltk.corpus import stopwords"
   ]
  },
  {
   "cell_type": "code",
   "execution_count": null,
   "id": "3399a51e",
   "metadata": {},
   "outputs": [],
   "source": [
    "from nltk.stem import WordNetLemmatizer"
   ]
  },
  {
   "cell_type": "code",
   "execution_count": null,
   "id": "66cdf7cc",
   "metadata": {},
   "outputs": [],
   "source": [
    "from nltk.tokenize import word_tokenize"
   ]
  },
  {
   "cell_type": "code",
   "execution_count": null,
   "id": "1e9095d6",
   "metadata": {},
   "outputs": [],
   "source": [
    "from sklearn.feature_extraction.text import TfidfVectorizer"
   ]
  },
  {
   "cell_type": "code",
   "execution_count": null,
   "id": "9a44248b",
   "metadata": {},
   "outputs": [],
   "source": [
    "import string"
   ]
  },
  {
   "cell_type": "code",
   "execution_count": null,
   "id": "4c18db98",
   "metadata": {},
   "outputs": [],
   "source": [
    "tweets = pd.read_csv('final.csv')"
   ]
  },
  {
   "cell_type": "code",
   "execution_count": null,
   "id": "c9db0795",
   "metadata": {},
   "outputs": [],
   "source": [
    "tweet = tweets.iloc[:, 1:]"
   ]
  },
  {
   "cell_type": "code",
   "execution_count": null,
   "id": "fda83b90",
   "metadata": {},
   "outputs": [],
   "source": [
    "def clean_text(txt):\n",
    "    txt = txt.lower()\n",
    "    txt = re.sub('(@[A-Za-z0-9]+)|(\\w+:\\/\\/\\S+)', ' ', txt)\n",
    "    txt = \"\".join([char for char in txt if char not in string.punctuation])\n",
    "    txt = re.sub('[0-9]+', ' ', txt)\n",
    "    words = word_tokenize(txt)\n",
    "    stop_words = set(stopwords.words('english'))\n",
    "    words = [w for w in words if not w in stop_words]\n",
    "    lem = WordNetLemmatizer()\n",
    "    words = [lem.lemmatize(w) for w in words]\n",
    "    return ' '.join(words)"
   ]
  },
  {
   "cell_type": "code",
   "execution_count": null,
   "id": "1a676faa",
   "metadata": {},
   "outputs": [],
   "source": [
    "tweet['Tweets'] = tweet['Tweets'].apply(lambda txt: clean_text(str(txt)))"
   ]
  },
  {
   "cell_type": "code",
   "execution_count": null,
   "id": "1f51f36b",
   "metadata": {},
   "outputs": [],
   "source": [
    "tweet0 = tweet[:500]"
   ]
  },
  {
   "cell_type": "code",
   "execution_count": null,
   "id": "a3187c5b",
   "metadata": {},
   "outputs": [],
   "source": [
    "def iterator(lines):\n",
    "    n = len(lines)\n",
    "    lines_thresh = []\n",
    "    for line_i in range(n):\n",
    "        line_thresh = []\n",
    "        for line_j in range(n):\n",
    "            line1 = word_tokenize(lines[line_i])\n",
    "            line2 = word_tokenize(lines[line_j])\n",
    "            n_min = min(len(line1), len(line2))\n",
    "            line_bool = [line1[i] == line2[i] for i in range(n_min)]\n",
    "            thresh_true = round(line_bool.count(True) / len(line_bool), 2)\n",
    "            thresh_false = round(line_bool.count(False) / len(line_bool), 2)\n",
    "            line_thresh.append((thresh_true, thresh_false))\n",
    "        lines_thresh.append(line_thresh)\n",
    "    return lines_thresh"
   ]
  },
  {
   "cell_type": "code",
   "execution_count": null,
   "id": "87b24c25",
   "metadata": {},
   "outputs": [],
   "source": [
    "lines_thresh = iterator(tweet0)"
   ]
  },
  {
   "cell_type": "code",
   "execution_count": null,
   "id": "cb5f607c",
   "metadata": {},
   "outputs": [],
   "source": [
    "len(lines_thresh)"
   ]
  },
  {
   "cell_type": "code",
   "execution_count": null,
   "id": "55d284d2",
   "metadata": {},
   "outputs": [],
   "source": [
    "lines_thresh[0]"
   ]
  },
  {
   "cell_type": "code",
   "execution_count": null,
   "id": "f1d80cd9",
   "metadata": {},
   "outputs": [],
   "source": [
    "def filterer(lines_thresh):\n",
    "    lines_thresh_bool = []\n",
    "    for line_thresh in lines_thresh:\n",
    "        line_thresh_bool = []\n",
    "        for thresh in line_thresh:\n",
    "            if (thresh[0] <= 0.25) or (0.75 <= thresh[1]):\n",
    "                line_thresh_bool.append(False)\n",
    "            else:\n",
    "                line_thresh_bool.append(True)\n",
    "        lines_thresh_bool.append(line_thresh_bool)\n",
    "    return lines_thresh_bool"
   ]
  },
  {
   "cell_type": "code",
   "execution_count": null,
   "id": "96f62738",
   "metadata": {},
   "outputs": [],
   "source": [
    "lines_thresh_bool = filterer(lines_thresh)"
   ]
  },
  {
   "cell_type": "code",
   "execution_count": null,
   "id": "bdf6f00d",
   "metadata": {},
   "outputs": [],
   "source": [
    "def extractor(lines, lines_thresh_bool):\n",
    "    tweet_lines_thresh_bool = pd.DataFrame(lines_thresh_bool.T)\n",
    "    tweet_lines_thresh_bool.insert(0, 'tweet', pd.DataFrame(np.array(lines)))\n",
    "    l = set()\n",
    "    for i in range(len(lines)):\n",
    "        d = tweet_lines_thresh_bool[tweet_lines_thresh_bool[i] == True]['tweet'].to_dict()\n",
    "        for k in d:\n",
    "            d[k] = len(word_tokenize(d[k].strip()))\n",
    "        d = dict(sorted(d.items(), key=lambda x: x[1], reverse=True))\n",
    "        l.add(list(d.keys())[0])\n",
    "    l = list(l)\n",
    "    refined_tweets = tweet_lines_thresh_bool.loc[l, 'tweet'].to_list()\n",
    "    return refined_tweets"
   ]
  },
  {
   "cell_type": "code",
   "execution_count": null,
   "id": "855837db",
   "metadata": {},
   "outputs": [],
   "source": [
    "refined_tweets = extractor(tweet0, lines_thresh_bool)"
   ]
  },
  {
   "cell_type": "code",
   "execution_count": null,
   "id": "72d1d324",
   "metadata": {},
   "outputs": [],
   "source": [
    "len(refined_tweets)"
   ]
  }
 ],
 "metadata": {},
 "nbformat": 4,
 "nbformat_minor": 5
}

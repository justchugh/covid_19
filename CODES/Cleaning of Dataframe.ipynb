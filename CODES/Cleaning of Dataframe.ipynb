{
 "cells": [
  {
   "cell_type": "code",
   "execution_count": null,
   "id": "ff2c4cd1",
   "metadata": {},
   "outputs": [],
   "source": [
    "import pandas as pd"
   ]
  },
  {
   "cell_type": "code",
   "execution_count": null,
   "id": "897860a7",
   "metadata": {},
   "outputs": [],
   "source": [
    "import numpy as np"
   ]
  },
  {
   "cell_type": "code",
   "execution_count": null,
   "id": "4f49ad71",
   "metadata": {},
   "outputs": [],
   "source": [
    "import seaborn as sns"
   ]
  },
  {
   "cell_type": "code",
   "execution_count": null,
   "id": "9afc86e5",
   "metadata": {},
   "outputs": [],
   "source": [
    "import matplotlib.pyplot as plt"
   ]
  },
  {
   "cell_type": "code",
   "execution_count": null,
   "id": "25d0fcee",
   "metadata": {},
   "outputs": [],
   "source": [
    "plt.style.use('ggplot')"
   ]
  },
  {
   "cell_type": "code",
   "execution_count": null,
   "id": "534a6b23",
   "metadata": {},
   "outputs": [],
   "source": [
    "import plotly.offline as py"
   ]
  },
  {
   "cell_type": "code",
   "execution_count": null,
   "id": "f6e4a710",
   "metadata": {},
   "outputs": [],
   "source": [
    "import plotly.graph_objs as go"
   ]
  },
  {
   "cell_type": "code",
   "execution_count": null,
   "id": "936bb626",
   "metadata": {},
   "outputs": [],
   "source": [
    "from wordcloud import WordCloud"
   ]
  },
  {
   "cell_type": "code",
   "execution_count": null,
   "id": "13d60cb4",
   "metadata": {},
   "outputs": [],
   "source": [
    "import plotly.express as px"
   ]
  },
  {
   "cell_type": "code",
   "execution_count": null,
   "id": "38d81cbc",
   "metadata": {},
   "outputs": [],
   "source": [
    "from sklearn.feature_extraction.text import CountVectorizer"
   ]
  },
  {
   "cell_type": "code",
   "execution_count": null,
   "id": "b51c9513",
   "metadata": {},
   "outputs": [],
   "source": [
    "import string"
   ]
  },
  {
   "cell_type": "code",
   "execution_count": null,
   "id": "c6cc783a",
   "metadata": {},
   "outputs": [],
   "source": [
    "from nltk.tokenize import word_tokenize"
   ]
  },
  {
   "cell_type": "code",
   "execution_count": null,
   "id": "eb7455ea",
   "metadata": {},
   "outputs": [],
   "source": [
    "df = pd.read_csv('output after algorithm of tweets.csv')"
   ]
  },
  {
   "cell_type": "code",
   "execution_count": null,
   "id": "7fdd4a7b",
   "metadata": {},
   "outputs": [],
   "source": [
    "date=[]"
   ]
  },
  {
   "cell_type": "code",
   "execution_count": null,
   "id": "e75c29de",
   "metadata": {},
   "outputs": [],
   "source": [
    "for i in df.iloc[:len(df),8]:\n",
    "    date.append(i[:10])"
   ]
  },
  {
   "cell_type": "code",
   "execution_count": null,
   "id": "e3539c7d",
   "metadata": {},
   "outputs": [],
   "source": [
    "df['tweet_date'] = date"
   ]
  },
  {
   "cell_type": "code",
   "execution_count": null,
   "id": "386e5d7b",
   "metadata": {},
   "outputs": [],
   "source": [
    "df.head()"
   ]
  },
  {
   "cell_type": "code",
   "execution_count": null,
   "id": "d8f85854",
   "metadata": {},
   "outputs": [],
   "source": [
    "print('Duplicated Tweets:-', df['Tweets'].duplicated().sum())"
   ]
  },
  {
   "cell_type": "code",
   "execution_count": null,
   "id": "291e5ca9",
   "metadata": {},
   "outputs": [],
   "source": [
    "df.info()"
   ]
  },
  {
   "cell_type": "code",
   "execution_count": null,
   "id": "88676328",
   "metadata": {},
   "outputs": [],
   "source": [
    "df['tweet_date'] = df['tweet_date'].astype('datetime64[ns]')"
   ]
  },
  {
   "cell_type": "code",
   "execution_count": null,
   "id": "560912f1",
   "metadata": {},
   "outputs": [],
   "source": [
    "print('drive into our dataframe:- ')"
   ]
  },
  {
   "cell_type": "code",
   "execution_count": null,
   "id": "2454da1c",
   "metadata": {},
   "outputs": [],
   "source": [
    "df.info()"
   ]
  },
  {
   "cell_type": "code",
   "execution_count": null,
   "id": "93e8e975",
   "metadata": {},
   "outputs": [],
   "source": [
    "df['User'].describe()"
   ]
  },
  {
   "cell_type": "code",
   "execution_count": null,
   "id": "a1731176",
   "metadata": {},
   "outputs": [],
   "source": [
    "print(df['User_location'].describe())"
   ]
  },
  {
   "cell_type": "code",
   "execution_count": null,
   "id": "8e77e4f4",
   "metadata": {},
   "outputs": [],
   "source": [
    "print('Null Location:-', df['User_location'].isnull().sum())"
   ]
  },
  {
   "cell_type": "code",
   "execution_count": null,
   "id": "404b17c0",
   "metadata": {},
   "outputs": [],
   "source": [
    "df['User_verified'].describe()"
   ]
  },
  {
   "cell_type": "code",
   "execution_count": null,
   "id": "7f9a9205",
   "metadata": {},
   "outputs": [],
   "source": [
    "clean_df = df[df['User_verified'] == True]"
   ]
  },
  {
   "cell_type": "code",
   "execution_count": null,
   "id": "022e033a",
   "metadata": {},
   "outputs": [],
   "source": [
    "print('Length of Clean dataframe:-', len(clean_df))"
   ]
  },
  {
   "cell_type": "code",
   "execution_count": null,
   "id": "615a9dd8",
   "metadata": {},
   "outputs": [],
   "source": [
    "print('rt_count:- ', len(df[df['rt_count'] == 0]))"
   ]
  },
  {
   "cell_type": "code",
   "execution_count": null,
   "id": "4ec58841",
   "metadata": {},
   "outputs": [],
   "source": [
    "print('User_statuses_count:- ', len(df[df['User_statuses_count'] == 0]))"
   ]
  },
  {
   "cell_type": "code",
   "execution_count": null,
   "id": "de418b89",
   "metadata": {},
   "outputs": [],
   "source": [
    "print('user_followers:- ', len(df[df['user_followers'] == 0]))"
   ]
  },
  {
   "cell_type": "code",
   "execution_count": null,
   "id": "11c8c21e",
   "metadata": {},
   "outputs": [],
   "source": [
    "print('User_verified(False):- ', len(df[df['User_verified'] == False]))"
   ]
  },
  {
   "cell_type": "code",
   "execution_count": null,
   "id": "df8b8f27",
   "metadata": {},
   "outputs": [],
   "source": [
    "print('User_verified(True):- ', len(df[df['User_verified'] == True]))"
   ]
  },
  {
   "cell_type": "code",
   "execution_count": null,
   "id": "12ecc22e",
   "metadata": {},
   "outputs": [],
   "source": [
    "print('rt_count = 0 & not verified:- ', len(df.loc[(df['rt_count'] == 0) & (df['User_verified'] == False)]))"
   ]
  },
  {
   "cell_type": "code",
   "execution_count": null,
   "id": "86995bef",
   "metadata": {},
   "outputs": [],
   "source": [
    "print('rt_count >= 1 & not verified:- ', len(df.loc[(df['rt_count'] >= 1) & (df['User_verified'] == False)]))"
   ]
  },
  {
   "cell_type": "code",
   "execution_count": null,
   "id": "1da1b608",
   "metadata": {},
   "outputs": [],
   "source": [
    "clean_df = clean_df.append(df.loc[(df['rt_count'] >= 1) & (df['User_verified'] == False)])"
   ]
  },
  {
   "cell_type": "code",
   "execution_count": null,
   "id": "17bc1a83",
   "metadata": {},
   "outputs": [],
   "source": [
    "print('After appending tweets where rt_count >= 1 and verified is false + (verified = true):- ', len(df) - len(clean_df))"
   ]
  }
 ],
 "metadata": {},
 "nbformat": 4,
 "nbformat_minor": 5
}

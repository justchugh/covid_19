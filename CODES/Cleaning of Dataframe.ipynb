{
 "cells": [
  {
   "cell_type": "code",
   "execution_count": null,
   "id": "f9b747c8",
   "metadata": {},
   "outputs": [],
   "source": [
    "import pandas as pd"
   ]
  },
  {
   "cell_type": "code",
   "execution_count": null,
   "id": "2a689445",
   "metadata": {},
   "outputs": [],
   "source": [
    "import numpy as np"
   ]
  },
  {
   "cell_type": "code",
   "execution_count": null,
   "id": "eda8a087",
   "metadata": {},
   "outputs": [],
   "source": [
    "import seaborn as sns"
   ]
  },
  {
   "cell_type": "code",
   "execution_count": null,
   "id": "9ad9157e",
   "metadata": {},
   "outputs": [],
   "source": [
    "import matplotlib.pyplot as plt"
   ]
  },
  {
   "cell_type": "code",
   "execution_count": null,
   "id": "910c0bb9",
   "metadata": {},
   "outputs": [],
   "source": [
    "plt.style.use('ggplot')"
   ]
  },
  {
   "cell_type": "code",
   "execution_count": null,
   "id": "31d168da",
   "metadata": {},
   "outputs": [],
   "source": [
    "import plotly.offline as py"
   ]
  },
  {
   "cell_type": "code",
   "execution_count": null,
   "id": "21137ef7",
   "metadata": {},
   "outputs": [],
   "source": [
    "import plotly.graph_objs as go"
   ]
  },
  {
   "cell_type": "code",
   "execution_count": null,
   "id": "679d81fd",
   "metadata": {},
   "outputs": [],
   "source": [
    "from wordcloud import WordCloud"
   ]
  },
  {
   "cell_type": "code",
   "execution_count": null,
   "id": "64c1e6f4",
   "metadata": {},
   "outputs": [],
   "source": [
    "import plotly.express as px"
   ]
  },
  {
   "cell_type": "code",
   "execution_count": null,
   "id": "74ffdf84",
   "metadata": {},
   "outputs": [],
   "source": [
    "from sklearn.feature_extraction.text import CountVectorizer"
   ]
  },
  {
   "cell_type": "code",
   "execution_count": null,
   "id": "b2cd0b1e",
   "metadata": {},
   "outputs": [],
   "source": [
    "import string"
   ]
  },
  {
   "cell_type": "code",
   "execution_count": null,
   "id": "935b4600",
   "metadata": {},
   "outputs": [],
   "source": [
    "from nltk.tokenize import word_tokenize"
   ]
  },
  {
   "cell_type": "code",
   "execution_count": null,
   "id": "c6c9428d",
   "metadata": {},
   "outputs": [],
   "source": [
    "df = pd.read_csv('output after algorithm of tweets.csv')"
   ]
  },
  {
   "cell_type": "code",
   "execution_count": null,
   "id": "981c90c4",
   "metadata": {},
   "outputs": [],
   "source": [
    "date=[]"
   ]
  },
  {
   "cell_type": "code",
   "execution_count": null,
   "id": "7ce275ad",
   "metadata": {},
   "outputs": [],
   "source": [
    "for i in df.iloc[:len(df),8]:\n",
    "    date.append(i[:10])"
   ]
  },
  {
   "cell_type": "code",
   "execution_count": null,
   "id": "3d98b610",
   "metadata": {},
   "outputs": [],
   "source": [
    "df['tweet_date'] = date"
   ]
  },
  {
   "cell_type": "code",
   "execution_count": null,
   "id": "cd28c9a7",
   "metadata": {},
   "outputs": [],
   "source": [
    "df.head()"
   ]
  },
  {
   "cell_type": "code",
   "execution_count": null,
   "id": "10f25e83",
   "metadata": {},
   "outputs": [],
   "source": [
    "print('Duplicated Tweets:-', df['Tweets'].duplicated().sum())"
   ]
  },
  {
   "cell_type": "code",
   "execution_count": null,
   "id": "00ff387a",
   "metadata": {},
   "outputs": [],
   "source": [
    "df.info()"
   ]
  },
  {
   "cell_type": "code",
   "execution_count": null,
   "id": "fba576d6",
   "metadata": {},
   "outputs": [],
   "source": [
    "df['tweet_date'] = df['tweet_date'].astype('datetime64[ns]')"
   ]
  },
  {
   "cell_type": "code",
   "execution_count": null,
   "id": "65cdfd50",
   "metadata": {},
   "outputs": [],
   "source": [
    "print('drive into our dataframe:- ')"
   ]
  },
  {
   "cell_type": "code",
   "execution_count": null,
   "id": "2c96a9e8",
   "metadata": {},
   "outputs": [],
   "source": [
    "df.info()"
   ]
  },
  {
   "cell_type": "code",
   "execution_count": null,
   "id": "b8b6d6f3",
   "metadata": {},
   "outputs": [],
   "source": [
    "df['User'].describe()"
   ]
  },
  {
   "cell_type": "code",
   "execution_count": null,
   "id": "394b3d9a",
   "metadata": {},
   "outputs": [],
   "source": [
    "print(df['User_location'].describe())"
   ]
  },
  {
   "cell_type": "code",
   "execution_count": null,
   "id": "76355890",
   "metadata": {},
   "outputs": [],
   "source": [
    "print('Null Location:-', df['User_location'].isnull().sum())"
   ]
  },
  {
   "cell_type": "code",
   "execution_count": null,
   "id": "082f7677",
   "metadata": {},
   "outputs": [],
   "source": [
    "df['User_verified'].describe()"
   ]
  },
  {
   "cell_type": "code",
   "execution_count": null,
   "id": "bfebffc0",
   "metadata": {},
   "outputs": [],
   "source": [
    "clean_df = df[df['User_verified'] == True]"
   ]
  },
  {
   "cell_type": "code",
   "execution_count": null,
   "id": "7289ce4d",
   "metadata": {},
   "outputs": [],
   "source": [
    "print('Length of Clean dataframe:-', len(clean_df))"
   ]
  },
  {
   "cell_type": "code",
   "execution_count": null,
   "id": "5c4bd7d8",
   "metadata": {},
   "outputs": [],
   "source": [
    "print('rt_count:- ', len(df[df['rt_count'] == 0]))"
   ]
  },
  {
   "cell_type": "code",
   "execution_count": null,
   "id": "fb05ddca",
   "metadata": {},
   "outputs": [],
   "source": [
    "print('User_statuses_count:- ', len(df[df['User_statuses_count'] == 0]))"
   ]
  },
  {
   "cell_type": "code",
   "execution_count": null,
   "id": "d81447dd",
   "metadata": {},
   "outputs": [],
   "source": [
    "print('user_followers:- ', len(df[df['user_followers'] == 0]))"
   ]
  },
  {
   "cell_type": "code",
   "execution_count": null,
   "id": "aa2ef29d",
   "metadata": {},
   "outputs": [],
   "source": [
    "print('User_verified(False):- ', len(df[df['User_verified'] == False]))"
   ]
  },
  {
   "cell_type": "code",
   "execution_count": null,
   "id": "71877b6d",
   "metadata": {},
   "outputs": [],
   "source": [
    "print('User_verified(True):- ', len(df[df['User_verified'] == True]))"
   ]
  }
 ],
 "metadata": {},
 "nbformat": 4,
 "nbformat_minor": 5
}

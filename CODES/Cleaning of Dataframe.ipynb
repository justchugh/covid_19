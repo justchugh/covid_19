{
 "cells": [
  {
   "cell_type": "code",
   "execution_count": null,
   "id": "e77fcc17",
   "metadata": {},
   "outputs": [],
   "source": [
    "import pandas as pd"
   ]
  },
  {
   "cell_type": "code",
   "execution_count": null,
   "id": "5335262e",
   "metadata": {},
   "outputs": [],
   "source": [
    "import numpy as np"
   ]
  },
  {
   "cell_type": "code",
   "execution_count": null,
   "id": "921fdc2b",
   "metadata": {},
   "outputs": [],
   "source": [
    "import seaborn as sns"
   ]
  },
  {
   "cell_type": "code",
   "execution_count": null,
   "id": "7b5f26e8",
   "metadata": {},
   "outputs": [],
   "source": [
    "import matplotlib.pyplot as plt"
   ]
  },
  {
   "cell_type": "code",
   "execution_count": null,
   "id": "a8ccac2d",
   "metadata": {},
   "outputs": [],
   "source": [
    "plt.style.use('ggplot')"
   ]
  },
  {
   "cell_type": "code",
   "execution_count": null,
   "id": "4914c9a7",
   "metadata": {},
   "outputs": [],
   "source": [
    "import plotly.offline as py"
   ]
  },
  {
   "cell_type": "code",
   "execution_count": null,
   "id": "2e17a73e",
   "metadata": {},
   "outputs": [],
   "source": [
    "import plotly.graph_objs as go"
   ]
  },
  {
   "cell_type": "code",
   "execution_count": null,
   "id": "46fc1369",
   "metadata": {},
   "outputs": [],
   "source": [
    "from wordcloud import WordCloud"
   ]
  },
  {
   "cell_type": "code",
   "execution_count": null,
   "id": "3a468dd2",
   "metadata": {},
   "outputs": [],
   "source": [
    "import plotly.express as px"
   ]
  },
  {
   "cell_type": "code",
   "execution_count": null,
   "id": "354c6778",
   "metadata": {},
   "outputs": [],
   "source": [
    "from sklearn.feature_extraction.text import CountVectorizer"
   ]
  },
  {
   "cell_type": "code",
   "execution_count": null,
   "id": "5b0349cc",
   "metadata": {},
   "outputs": [],
   "source": [
    "import string"
   ]
  },
  {
   "cell_type": "code",
   "execution_count": null,
   "id": "99c21f14",
   "metadata": {},
   "outputs": [],
   "source": [
    "from nltk.tokenize import word_tokenize"
   ]
  },
  {
   "cell_type": "code",
   "execution_count": null,
   "id": "6657fe44",
   "metadata": {},
   "outputs": [],
   "source": [
    "df = pd.read_csv('output after algorithm of tweets.csv')"
   ]
  },
  {
   "cell_type": "code",
   "execution_count": null,
   "id": "eb29dcec",
   "metadata": {},
   "outputs": [],
   "source": [
    "date=[]"
   ]
  },
  {
   "cell_type": "code",
   "execution_count": null,
   "id": "cf2da1e1",
   "metadata": {},
   "outputs": [],
   "source": [
    "for i in df.iloc[:len(df),8]:\n",
    "    date.append(i[:10])"
   ]
  },
  {
   "cell_type": "code",
   "execution_count": null,
   "id": "67a4e80c",
   "metadata": {},
   "outputs": [],
   "source": [
    "df['tweet_date'] = date"
   ]
  },
  {
   "cell_type": "code",
   "execution_count": null,
   "id": "fc915c47",
   "metadata": {},
   "outputs": [],
   "source": [
    "df.head()"
   ]
  },
  {
   "cell_type": "code",
   "execution_count": null,
   "id": "ec0997bb",
   "metadata": {},
   "outputs": [],
   "source": [
    "print('Duplicated Tweets:-', df['Tweets'].duplicated().sum())"
   ]
  },
  {
   "cell_type": "code",
   "execution_count": null,
   "id": "e2dd5adc",
   "metadata": {},
   "outputs": [],
   "source": [
    "df.info()"
   ]
  },
  {
   "cell_type": "code",
   "execution_count": null,
   "id": "ce2e8b0a",
   "metadata": {},
   "outputs": [],
   "source": [
    "df['tweet_date'] = df['tweet_date'].astype('datetime64[ns]')"
   ]
  },
  {
   "cell_type": "code",
   "execution_count": null,
   "id": "6ba4015e",
   "metadata": {},
   "outputs": [],
   "source": [
    "print('drive into our dataframe:- ')"
   ]
  },
  {
   "cell_type": "code",
   "execution_count": null,
   "id": "ed6fe7eb",
   "metadata": {},
   "outputs": [],
   "source": [
    "df.info()"
   ]
  },
  {
   "cell_type": "code",
   "execution_count": null,
   "id": "e0e65761",
   "metadata": {},
   "outputs": [],
   "source": [
    "df['User'].describe()"
   ]
  },
  {
   "cell_type": "code",
   "execution_count": null,
   "id": "5ac1496c",
   "metadata": {},
   "outputs": [],
   "source": [
    "print(df['User_location'].describe())"
   ]
  },
  {
   "cell_type": "code",
   "execution_count": null,
   "id": "0d27c0fb",
   "metadata": {},
   "outputs": [],
   "source": [
    "print('Null Location:-', df['User_location'].isnull().sum())"
   ]
  },
  {
   "cell_type": "code",
   "execution_count": null,
   "id": "8691c2a8",
   "metadata": {},
   "outputs": [],
   "source": [
    "df['User_verified'].describe()"
   ]
  },
  {
   "cell_type": "code",
   "execution_count": null,
   "id": "8d953a63",
   "metadata": {},
   "outputs": [],
   "source": [
    "clean_df = df[df['User_verified'] == True]"
   ]
  },
  {
   "cell_type": "code",
   "execution_count": null,
   "id": "df537222",
   "metadata": {},
   "outputs": [],
   "source": [
    "print('Length of Clean dataframe:-', len(clean_df))"
   ]
  },
  {
   "cell_type": "code",
   "execution_count": null,
   "id": "bf10c2c8",
   "metadata": {},
   "outputs": [],
   "source": [
    "print('rt_count:- ', len(df[df['rt_count'] == 0]))"
   ]
  },
  {
   "cell_type": "code",
   "execution_count": null,
   "id": "0fc5f743",
   "metadata": {},
   "outputs": [],
   "source": [
    "print('User_statuses_count:- ', len(df[df['User_statuses_count'] == 0]))"
   ]
  },
  {
   "cell_type": "code",
   "execution_count": null,
   "id": "2b4603ac",
   "metadata": {},
   "outputs": [],
   "source": [
    "print('user_followers:- ', len(df[df['user_followers'] == 0]))"
   ]
  },
  {
   "cell_type": "code",
   "execution_count": null,
   "id": "52ecdb31",
   "metadata": {},
   "outputs": [],
   "source": [
    "print('User_verified(False):- ', len(df[df['User_verified'] == False]))"
   ]
  },
  {
   "cell_type": "code",
   "execution_count": null,
   "id": "7d72a9f6",
   "metadata": {},
   "outputs": [],
   "source": [
    "print('User_verified(True):- ', len(df[df['User_verified'] == True]))"
   ]
  },
  {
   "cell_type": "code",
   "execution_count": null,
   "id": "94a61fdd",
   "metadata": {},
   "outputs": [],
   "source": [
    "print('rt_count = 0 & not verified:- ', len(df.loc[(df['rt_count'] == 0) & (df['User_verified'] == False)]))"
   ]
  },
  {
   "cell_type": "code",
   "execution_count": null,
   "id": "9dca3219",
   "metadata": {},
   "outputs": [],
   "source": [
    "print('rt_count >= 1 & not verified:- ', len(df.loc[(df['rt_count'] >= 1) & (df['User_verified'] == False)]))"
   ]
  },
  {
   "cell_type": "code",
   "execution_count": null,
   "id": "df516c25",
   "metadata": {},
   "outputs": [],
   "source": [
    "clean_df = clean_df.append(df.loc[(df['rt_count'] >= 1) & (df['User_verified'] == False)])"
   ]
  },
  {
   "cell_type": "code",
   "execution_count": null,
   "id": "9d30c587",
   "metadata": {},
   "outputs": [],
   "source": [
    "print('After appending tweets where rt_count >= 1 and verified is false + (verified = true):- ', len(df) - len(clean_df))"
   ]
  },
  {
   "cell_type": "code",
   "execution_count": null,
   "id": "09fdfd54",
   "metadata": {},
   "outputs": [],
   "source": [
    "clean_df['Tweets'].duplicated().sum()"
   ]
  },
  {
   "cell_type": "code",
   "execution_count": null,
   "id": "889f37a6",
   "metadata": {},
   "outputs": [],
   "source": [
    "df1 = clean_df.merge(df, how='outer', indicator=True)"
   ]
  },
  {
   "cell_type": "code",
   "execution_count": null,
   "id": "7339e178",
   "metadata": {},
   "outputs": [],
   "source": [
    "print('df:-', len(df))"
   ]
  },
  {
   "cell_type": "code",
   "execution_count": null,
   "id": "131b9e03",
   "metadata": {},
   "outputs": [],
   "source": [
    "print('cleandf:-', len(clean_df))"
   ]
  },
  {
   "cell_type": "code",
   "execution_count": null,
   "id": "d7385423",
   "metadata": {},
   "outputs": [],
   "source": [
    "print('df1:-', len(df1))"
   ]
  },
  {
   "cell_type": "code",
   "execution_count": null,
   "id": "94e1597c",
   "metadata": {},
   "outputs": [],
   "source": [
    "df1.head()"
   ]
  },
  {
   "cell_type": "code",
   "execution_count": null,
   "id": "246f67b1",
   "metadata": {},
   "outputs": [],
   "source": [
    "df1 = df1[df1['_merge'] != 'both']"
   ]
  },
  {
   "cell_type": "code",
   "execution_count": null,
   "id": "0c8a84d3",
   "metadata": {},
   "outputs": [],
   "source": [
    "print(len(df1))"
   ]
  },
  {
   "cell_type": "code",
   "execution_count": null,
   "id": "e55f21fb",
   "metadata": {},
   "outputs": [],
   "source": [
    "df1 = df1.drop('_merge', axis=1)"
   ]
  },
  {
   "cell_type": "code",
   "execution_count": null,
   "id": "5df31b1a",
   "metadata": {},
   "outputs": [],
   "source": [
    "print('rt_count:- ', len(df1[df1['rt_count'] == 0]))"
   ]
  },
  {
   "cell_type": "code",
   "execution_count": null,
   "id": "74f098a7",
   "metadata": {},
   "outputs": [],
   "source": [
    "print('User_statuses_count:- ', len(df1[df1['User_statuses_count'] == 0]))"
   ]
  },
  {
   "cell_type": "code",
   "execution_count": null,
   "id": "b12b5881",
   "metadata": {},
   "outputs": [],
   "source": [
    "print('user_followers:- ', len(df1[df1['user_followers'] == 0]))"
   ]
  },
  {
   "cell_type": "code",
   "execution_count": null,
   "id": "5a6ec619",
   "metadata": {},
   "outputs": [],
   "source": [
    "print('User_verified(False):- ', len(df1[df1['User_verified'] == False]))"
   ]
  },
  {
   "cell_type": "code",
   "execution_count": null,
   "id": "a268073a",
   "metadata": {},
   "outputs": [],
   "source": [
    "print('User_verified(True):- ', len(df1[df1['User_verified'] == True]))"
   ]
  },
  {
   "cell_type": "code",
   "execution_count": null,
   "id": "d317f14f",
   "metadata": {},
   "outputs": [],
   "source": [
    "clean_df = clean_df.append(df1[(df1['user_followers'] >= 50) & df1['User_location'].isnull()])"
   ]
  },
  {
   "cell_type": "code",
   "execution_count": null,
   "id": "42d9955a",
   "metadata": {},
   "outputs": [],
   "source": [
    "print(len(clean_df))"
   ]
  },
  {
   "cell_type": "code",
   "execution_count": null,
   "id": "0dcf5d9f",
   "metadata": {},
   "outputs": [],
   "source": [
    "df2 = df1.dropna(subset=['User_location'])"
   ]
  },
  {
   "cell_type": "code",
   "execution_count": null,
   "id": "87034bb5",
   "metadata": {},
   "outputs": [],
   "source": [
    "clean_df = clean_df.append(df2)"
   ]
  },
  {
   "cell_type": "code",
   "execution_count": null,
   "id": "bb182fb2",
   "metadata": {},
   "outputs": [],
   "source": [
    "print(len(clean_df))"
   ]
  },
  {
   "cell_type": "code",
   "execution_count": null,
   "id": "d805bc94",
   "metadata": {},
   "outputs": [],
   "source": [
    "clean_df.to_csv('Cleaning_dataframe.csv')"
   ]
  },
  {
   "cell_type": "code",
   "execution_count": null,
   "id": "7f75da76",
   "metadata": {},
   "outputs": [],
   "source": [
    "df = clean_df"
   ]
  },
  {
   "cell_type": "code",
   "execution_count": null,
   "id": "03b2ed61",
   "metadata": {},
   "outputs": [],
   "source": [
    "plt.figure(figsize=(10,7))"
   ]
  },
  {
   "cell_type": "code",
   "execution_count": null,
   "id": "48602743",
   "metadata": {},
   "outputs": [],
   "source": [
    "user = df['User'].value_counts()[:40]"
   ]
  },
  {
   "cell_type": "code",
   "execution_count": null,
   "id": "03b34fb3",
   "metadata": {},
   "outputs": [],
   "source": [
    "sns.barplot(x=user, y=user.index, palette='deep')"
   ]
  },
  {
   "cell_type": "code",
   "execution_count": null,
   "id": "17abdafe",
   "metadata": {},
   "outputs": [],
   "source": [
    "plt.title('Most Active Users')"
   ]
  },
  {
   "cell_type": "code",
   "execution_count": null,
   "id": "11c3c9f4",
   "metadata": {},
   "outputs": [],
   "source": [
    "plt.xlabel('Number of Tweets')"
   ]
  }
 ],
 "metadata": {},
 "nbformat": 4,
 "nbformat_minor": 5
}

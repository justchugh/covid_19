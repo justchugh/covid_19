{
 "cells": [
  {
   "cell_type": "code",
   "execution_count": null,
   "id": "01d99748",
   "metadata": {},
   "outputs": [],
   "source": [
    "import pandas as pd"
   ]
  },
  {
   "cell_type": "code",
   "execution_count": null,
   "id": "938bcfbb",
   "metadata": {},
   "outputs": [],
   "source": [
    "import numpy as np"
   ]
  },
  {
   "cell_type": "code",
   "execution_count": null,
   "id": "7f46f836",
   "metadata": {},
   "outputs": [],
   "source": [
    "import seaborn as sns"
   ]
  },
  {
   "cell_type": "code",
   "execution_count": null,
   "id": "3c259e00",
   "metadata": {},
   "outputs": [],
   "source": [
    "import matplotlib.pyplot as plt"
   ]
  },
  {
   "cell_type": "code",
   "execution_count": null,
   "id": "f0e4aec6",
   "metadata": {},
   "outputs": [],
   "source": [
    "plt.style.use('ggplot')"
   ]
  },
  {
   "cell_type": "code",
   "execution_count": null,
   "id": "266779b2",
   "metadata": {},
   "outputs": [],
   "source": [
    "import plotly.offline as py"
   ]
  },
  {
   "cell_type": "code",
   "execution_count": null,
   "id": "c61a58bd",
   "metadata": {},
   "outputs": [],
   "source": [
    "import plotly.graph_objs as go"
   ]
  },
  {
   "cell_type": "code",
   "execution_count": null,
   "id": "f5b12428",
   "metadata": {},
   "outputs": [],
   "source": [
    "from wordcloud import WordCloud"
   ]
  },
  {
   "cell_type": "code",
   "execution_count": null,
   "id": "82d02c3a",
   "metadata": {},
   "outputs": [],
   "source": [
    "import plotly.express as px"
   ]
  },
  {
   "cell_type": "code",
   "execution_count": null,
   "id": "4cceb18d",
   "metadata": {},
   "outputs": [],
   "source": [
    "from sklearn.feature_extraction.text import CountVectorizer"
   ]
  },
  {
   "cell_type": "code",
   "execution_count": null,
   "id": "dab5a12d",
   "metadata": {},
   "outputs": [],
   "source": [
    "import string"
   ]
  },
  {
   "cell_type": "code",
   "execution_count": null,
   "id": "d7230705",
   "metadata": {},
   "outputs": [],
   "source": [
    "from nltk.tokenize import word_tokenize"
   ]
  },
  {
   "cell_type": "code",
   "execution_count": null,
   "id": "8c0cfb6b",
   "metadata": {},
   "outputs": [],
   "source": [
    "df = pd.read_csv('output after algorithm of tweets.csv')"
   ]
  },
  {
   "cell_type": "code",
   "execution_count": null,
   "id": "87143436",
   "metadata": {},
   "outputs": [],
   "source": [
    "date=[]"
   ]
  },
  {
   "cell_type": "code",
   "execution_count": null,
   "id": "a2b62687",
   "metadata": {},
   "outputs": [],
   "source": [
    "for i in df.iloc[:len(df),8]:\n",
    "    date.append(i[:10])"
   ]
  },
  {
   "cell_type": "code",
   "execution_count": null,
   "id": "e7501628",
   "metadata": {},
   "outputs": [],
   "source": [
    "df['tweet_date'] = date"
   ]
  },
  {
   "cell_type": "code",
   "execution_count": null,
   "id": "e732c913",
   "metadata": {},
   "outputs": [],
   "source": [
    "df.head()"
   ]
  },
  {
   "cell_type": "code",
   "execution_count": null,
   "id": "ff15670e",
   "metadata": {},
   "outputs": [],
   "source": [
    "print('Duplicated Tweets:-', df['Tweets'].duplicated().sum())"
   ]
  },
  {
   "cell_type": "code",
   "execution_count": null,
   "id": "596d001d",
   "metadata": {},
   "outputs": [],
   "source": [
    "df.info()"
   ]
  },
  {
   "cell_type": "code",
   "execution_count": null,
   "id": "c214e0eb",
   "metadata": {},
   "outputs": [],
   "source": [
    "df['tweet_date'] = df['tweet_date'].astype('datetime64[ns]')"
   ]
  },
  {
   "cell_type": "code",
   "execution_count": null,
   "id": "ceb7a8d2",
   "metadata": {},
   "outputs": [],
   "source": [
    "print('drive into our dataframe:- ')"
   ]
  },
  {
   "cell_type": "code",
   "execution_count": null,
   "id": "733923b8",
   "metadata": {},
   "outputs": [],
   "source": [
    "df.info()"
   ]
  },
  {
   "cell_type": "code",
   "execution_count": null,
   "id": "a7d79126",
   "metadata": {},
   "outputs": [],
   "source": [
    "df['User'].describe()"
   ]
  },
  {
   "cell_type": "code",
   "execution_count": null,
   "id": "bb881031",
   "metadata": {},
   "outputs": [],
   "source": [
    "print(df['User_location'].describe())"
   ]
  },
  {
   "cell_type": "code",
   "execution_count": null,
   "id": "6bfac83e",
   "metadata": {},
   "outputs": [],
   "source": [
    "print('Null Location:-', df['User_location'].isnull().sum())"
   ]
  },
  {
   "cell_type": "code",
   "execution_count": null,
   "id": "6314a39f",
   "metadata": {},
   "outputs": [],
   "source": [
    "df['User_verified'].describe()"
   ]
  },
  {
   "cell_type": "code",
   "execution_count": null,
   "id": "f8a5ad94",
   "metadata": {},
   "outputs": [],
   "source": [
    "clean_df = df[df['User_verified'] == True]"
   ]
  },
  {
   "cell_type": "code",
   "execution_count": null,
   "id": "f5ccb9b8",
   "metadata": {},
   "outputs": [],
   "source": [
    "print('Length of Clean dataframe:-', len(clean_df))"
   ]
  },
  {
   "cell_type": "code",
   "execution_count": null,
   "id": "de25fbf2",
   "metadata": {},
   "outputs": [],
   "source": [
    "print('rt_count:- ', len(df[df['rt_count'] == 0]))"
   ]
  },
  {
   "cell_type": "code",
   "execution_count": null,
   "id": "7aa50506",
   "metadata": {},
   "outputs": [],
   "source": [
    "print('User_statuses_count:- ', len(df[df['User_statuses_count'] == 0]))"
   ]
  },
  {
   "cell_type": "code",
   "execution_count": null,
   "id": "030ed0e2",
   "metadata": {},
   "outputs": [],
   "source": [
    "print('user_followers:- ', len(df[df['user_followers'] == 0]))"
   ]
  },
  {
   "cell_type": "code",
   "execution_count": null,
   "id": "08cba957",
   "metadata": {},
   "outputs": [],
   "source": [
    "print('User_verified(False):- ', len(df[df['User_verified'] == False]))"
   ]
  },
  {
   "cell_type": "code",
   "execution_count": null,
   "id": "35475302",
   "metadata": {},
   "outputs": [],
   "source": [
    "print('User_verified(True):- ', len(df[df['User_verified'] == True]))"
   ]
  },
  {
   "cell_type": "code",
   "execution_count": null,
   "id": "966d01f9",
   "metadata": {},
   "outputs": [],
   "source": [
    "print('rt_count = 0 & not verified:- ', len(df.loc[(df['rt_count'] == 0) & (df['User_verified'] == False)]))"
   ]
  },
  {
   "cell_type": "code",
   "execution_count": null,
   "id": "57dc99a0",
   "metadata": {},
   "outputs": [],
   "source": [
    "print('rt_count >= 1 & not verified:- ', len(df.loc[(df['rt_count'] >= 1) & (df['User_verified'] == False)]))"
   ]
  }
 ],
 "metadata": {},
 "nbformat": 4,
 "nbformat_minor": 5
}

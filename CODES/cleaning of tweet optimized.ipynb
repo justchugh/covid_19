{
 "cells": [
  {
   "cell_type": "code",
   "execution_count": null,
   "id": "2fdbb9f0",
   "metadata": {},
   "outputs": [],
   "source": [
    "import time"
   ]
  },
  {
   "cell_type": "code",
   "execution_count": null,
   "id": "d6b6866b",
   "metadata": {},
   "outputs": [],
   "source": [
    "import re"
   ]
  },
  {
   "cell_type": "code",
   "execution_count": null,
   "id": "9e4d1030",
   "metadata": {},
   "outputs": [],
   "source": [
    "import string"
   ]
  },
  {
   "cell_type": "code",
   "execution_count": null,
   "id": "a6392c17",
   "metadata": {},
   "outputs": [],
   "source": [
    "import numpy as np"
   ]
  },
  {
   "cell_type": "code",
   "execution_count": null,
   "id": "4b6cb3f6",
   "metadata": {},
   "outputs": [],
   "source": [
    "import pandas as pd"
   ]
  },
  {
   "cell_type": "code",
   "execution_count": null,
   "id": "b8151d1f",
   "metadata": {},
   "outputs": [],
   "source": [
    "import matplotlib.pyplot as plt"
   ]
  },
  {
   "cell_type": "code",
   "execution_count": null,
   "id": "bf0bf285",
   "metadata": {},
   "outputs": [],
   "source": [
    "import seaborn as sns"
   ]
  },
  {
   "cell_type": "code",
   "execution_count": null,
   "id": "0b912286",
   "metadata": {},
   "outputs": [],
   "source": [
    "import contractions"
   ]
  },
  {
   "cell_type": "code",
   "execution_count": null,
   "id": "0f762dda",
   "metadata": {},
   "outputs": [],
   "source": [
    "from nltk.tokenize import word_tokenize"
   ]
  },
  {
   "cell_type": "code",
   "execution_count": null,
   "id": "30a72863",
   "metadata": {},
   "outputs": [],
   "source": [
    "from nltk.corpus import stopwords"
   ]
  },
  {
   "cell_type": "code",
   "execution_count": null,
   "id": "66f416c5",
   "metadata": {},
   "outputs": [],
   "source": [
    "from nltk.corpus import wordnet"
   ]
  },
  {
   "cell_type": "code",
   "execution_count": null,
   "id": "a881b06c",
   "metadata": {},
   "outputs": [],
   "source": [
    "from nltk import pos_tag"
   ]
  },
  {
   "cell_type": "code",
   "execution_count": null,
   "id": "13f11748",
   "metadata": {},
   "outputs": [],
   "source": [
    "from nltk.stem import WordNetLemmatizer"
   ]
  },
  {
   "cell_type": "code",
   "execution_count": null,
   "id": "72c7f207",
   "metadata": {},
   "outputs": [],
   "source": [
    "from nltk.stem import PorterStemmer"
   ]
  },
  {
   "cell_type": "code",
   "execution_count": null,
   "id": "f87ab1ae",
   "metadata": {},
   "outputs": [],
   "source": [
    "from num2words import num2words"
   ]
  },
  {
   "cell_type": "code",
   "execution_count": null,
   "id": "02d63b14",
   "metadata": {},
   "outputs": [],
   "source": [
    "from spellchecker import SpellChecker"
   ]
  },
  {
   "cell_type": "code",
   "execution_count": null,
   "id": "064eccea",
   "metadata": {},
   "outputs": [],
   "source": [
    "tweets = pd.read_csv('final.csv').iloc[:,1:]"
   ]
  },
  {
   "cell_type": "code",
   "execution_count": null,
   "id": "1acc1630",
   "metadata": {},
   "outputs": [],
   "source": [
    "tweet = tweets['Tweets']"
   ]
  },
  {
   "cell_type": "code",
   "execution_count": null,
   "id": "1ff9ad41",
   "metadata": {},
   "outputs": [],
   "source": [
    "stop_words = stopwords.words('english')"
   ]
  },
  {
   "cell_type": "code",
   "execution_count": null,
   "id": "bf9ea854",
   "metadata": {},
   "outputs": [],
   "source": [
    "stop_words.remove('not')"
   ]
  },
  {
   "cell_type": "code",
   "execution_count": null,
   "id": "ec878b80",
   "metadata": {},
   "outputs": [],
   "source": [
    "punct_words = list(string.punctuation)"
   ]
  },
  {
   "cell_type": "code",
   "execution_count": null,
   "id": "f311a6dc",
   "metadata": {},
   "outputs": [],
   "source": [
    "stop = stop_words + punct_words"
   ]
  },
  {
   "cell_type": "code",
   "execution_count": null,
   "id": "f6f14ff9",
   "metadata": {},
   "outputs": [],
   "source": [
    "stop = list(set(stop))"
   ]
  },
  {
   "cell_type": "code",
   "execution_count": null,
   "id": "861ffa28",
   "metadata": {},
   "outputs": [],
   "source": [
    "def get_easy_pos(tag):\n",
    "    if tag.startswith('J'):\n",
    "        return wordnet.ADJ\n",
    "    elif tag.startswith('V'):\n",
    "        return wordnet.VERB\n",
    "    elif tag.startswith('N'):\n",
    "        return wordnet.NOUN\n",
    "    elif tag.startswith('R'):\n",
    "        return wordnet.ADV\n",
    "    else:\n",
    "        return wordnet.NOUN"
   ]
  },
  {
   "cell_type": "code",
   "execution_count": null,
   "id": "90259ed7",
   "metadata": {},
   "outputs": [],
   "source": [
    "lemmatizer = WordNetLemmatizer()"
   ]
  },
  {
   "cell_type": "code",
   "execution_count": null,
   "id": "da9932cb",
   "metadata": {},
   "outputs": [],
   "source": [
    "spell = SpellChecker()"
   ]
  },
  {
   "cell_type": "code",
   "execution_count": null,
   "id": "69041769",
   "metadata": {},
   "outputs": [],
   "source": [
    "digitise = lambda x: re.sub('-|\\s+', '', num2words(x.group()))"
   ]
  },
  {
   "cell_type": "code",
   "execution_count": null,
   "id": "3eb34a6e",
   "metadata": {},
   "outputs": [],
   "source": [
    "def f1(text):\n",
    "    unurl = re.sub('http[s]?://\\S+', '', str(text).strip().lower())\n",
    "    for i in unurl.split():\n",
    "        if i[0] in ['#', '@']:\n",
    "            unurl = unurl.replace(i, ' ')\n",
    "    unspaced = ' '.join(unurl.split()).strip()\n",
    "    expanded = contractions.fix(unspaced)\n",
    "    digit_to_word = re.sub(r'\\d+', digitise, expanded)\n",
    "    clean_words = []\n",
    "    for word in word_tokenize(digit_to_word):\n",
    "        if word not in stop:\n",
    "            pos = pos_tag([word])\n",
    "            clean_word = lemmatizer.lemmatize(word, get_easy_pos(pos[0][1]))\n",
    "            clean_words.append(clean_word)\n",
    "    clean_words = ' '.join(clean_words)\n",
    "    correct_word = checker.correct(clean_words)\n",
    "    return correct_word"
   ]
  },
  {
   "cell_type": "code",
   "execution_count": null,
   "id": "3fd98e17",
   "metadata": {},
   "outputs": [],
   "source": [
    "tweet0 = tweet[:10]"
   ]
  },
  {
   "cell_type": "code",
   "execution_count": null,
   "id": "17d4ea17",
   "metadata": {},
   "outputs": [],
   "source": [
    "st = time.time()\n",
    "new_tweet0 = tweet0.apply(f1)\n",
    "print('time_taken : ', time.time() - st)"
   ]
  },
  {
   "cell_type": "code",
   "execution_count": null,
   "id": "6b199262",
   "metadata": {},
   "outputs": [],
   "source": [
    "len(tweet0), len(new_tweet0)"
   ]
  },
  {
   "cell_type": "code",
   "execution_count": null,
   "id": "d93b99ea",
   "metadata": {},
   "outputs": [],
   "source": [
    "st = time.time()\n",
    "new_tweet = tweet.apply(f1)\n",
    "print('time_taken : ', time.time() - st)"
   ]
  },
  {
   "cell_type": "code",
   "execution_count": null,
   "id": "27bb0a44",
   "metadata": {},
   "outputs": [],
   "source": [
    "print('time for preprocessing in min: ', 3032 / 60)"
   ]
  },
  {
   "cell_type": "code",
   "execution_count": null,
   "id": "e5b82b0f",
   "metadata": {},
   "outputs": [],
   "source": [
    "tweets['Tweets'] = new_tweet"
   ]
  },
  {
   "cell_type": "code",
   "execution_count": null,
   "id": "4bf5f79e",
   "metadata": {},
   "outputs": [],
   "source": [
    "tweets.head()"
   ]
  },
  {
   "cell_type": "code",
   "execution_count": null,
   "id": "80d30275",
   "metadata": {},
   "outputs": [],
   "source": [
    "tweets.iloc[78, 0]"
   ]
  },
  {
   "cell_type": "code",
   "execution_count": null,
   "id": "69623ee1",
   "metadata": {},
   "outputs": [],
   "source": [
    "def phase_1(lines):\n",
    "    n = len(lines)\n",
    "    lines_thresh_bool = np.ones((n * n,), dtype=np.bool)\n",
    "    for i in range(n):\n",
    "        for j in range(i + 1, n):\n",
    "            line1 = lines[i]\n",
    "            n1 = len(line1)\n",
    "            line2 = lines[j]\n",
    "            n2 = len(line2)\n",
    "            n_max = max(n1, n2)\n",
    "            n_min = min(n1, n2)\n",
    "            count_true = 0\n",
    "            for k in range(n_min):\n",
    "                if line1[k] == line2[k]:\n",
    "                    count_true += 1\n",
    "            thresh_true = round(count_true / n_max, 2)\n",
    "            thresh_false = 1 - thresh_true\n",
    "            if (thresh_true <= 0.25) or (0.75 <= thresh_false):\n",
    "                lines_thresh_bool[(n * i) + j] = False\n",
    "                lines_thresh_bool[i + (n * j)] = False\n",
    "    return lines_thresh_bool.reshape(n, n)"
   ]
  },
  {
   "cell_type": "code",
   "execution_count": null,
   "id": "f4c39358",
   "metadata": {},
   "outputs": [],
   "source": [
    "def phase_2(lines, lines_thresh_bool):\n",
    "    tweet_lines_thresh_bool = pd.DataFrame(lines_thresh_bool.T)\n",
    "    tweet_lines_thresh_bool.insert(0, 'tweet', pd.DataFrame(np.array(lines)))\n",
    "    l = set()\n",
    "    for i in range(len(lines)):\n",
    "        d = tweet_lines_thresh_bool[tweet_lines_thresh_bool[i] == True]['tweet'].to_dict()\n",
    "        for k in d:\n",
    "            d[k] = len(d[k])\n",
    "        d = dict(sorted(d.items(), key=lambda x: x[1], reverse=True))\n",
    "        l.add(list(d.keys())[0])\n",
    "    l = list(l)\n",
    "    refined_tweets = tweet_lines_thresh_bool.loc[l, 'tweet'].to_list()\n",
    "    return refined_tweets, l"
   ]
  },
  {
   "cell_type": "code",
   "execution_count": null,
   "id": "57300b5e",
   "metadata": {},
   "outputs": [],
   "source": [
    "a_tweets = []\n",
    "for t in new_tweet:\n",
    "    a_tweets.append(word_tokenize(str(t).strip()))\n",
    "len(a_tweets)"
   ]
  },
  {
   "cell_type": "code",
   "execution_count": null,
   "id": "0cd6f85d",
   "metadata": {},
   "outputs": [],
   "source": [
    "st1 = time.time()\n",
    "lines_thresh_bool = phase_1(a_tweets)\n",
    "ed1 = time.time()\n",
    "st2 = time.time()\n",
    "refined_tweets, l = phase_2(a_tweets, lines_thresh_bool)\n",
    "ed2 = time.time()\n",
    "print('time of phase_1:', ed1 - st1)\n",
    "print('time of phase_2:', ed2 - st2)\n",
    "print('time of phase_1 + phase_2:', (ed1 - st1) + (ed2 - st2))\n",
    "len(tweet), len(refined_tweets)"
   ]
  },
  {
   "cell_type": "code",
   "execution_count": null,
   "id": "1d3c78b0",
   "metadata": {},
   "outputs": [],
   "source": [
    "plt.figure(figsize=(50,50))\n",
    "sns.heatmap(lines_thresh_bool)"
   ]
  }
 ],
 "metadata": {},
 "nbformat": 4,
 "nbformat_minor": 5
}

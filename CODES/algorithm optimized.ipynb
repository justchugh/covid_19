{
 "cells": [
  {
   "cell_type": "code",
   "execution_count": null,
   "id": "906cefb7",
   "metadata": {},
   "outputs": [],
   "source": [
    "import re\n",
    "import string\n",
    "import pandas as pd\n",
    "import numpy as np"
   ]
  },
  {
   "cell_type": "code",
   "execution_count": null,
   "id": "85e00497",
   "metadata": {},
   "outputs": [],
   "source": [
    "tweets = pd.read_csv('final.csv').iloc[:,1:]\n",
    "tweet = tweets['Tweets']"
   ]
  },
  {
   "cell_type": "code",
   "execution_count": null,
   "id": "cde12990",
   "metadata": {},
   "outputs": [],
   "source": [
    "stop_words = ['a', 'an', 'the']\n",
    "punct_words = list(string.punctuation)\n",
    "stop = stop_words + punct_words\n",
    "stop = list(set(stop))"
   ]
  },
  {
   "cell_type": "code",
   "execution_count": null,
   "id": "94ef4094",
   "metadata": {},
   "outputs": [],
   "source": [
    "def process_text(text):\n",
    "    text = text.lower()\n",
    "    text = re.sub(r'http\\S+', '', text)\n",
    "    text = re.sub(f'[{string.punctuation}]', '', text)\n",
    "    words = text.split()\n",
    "    words = [word for word in words if word not in stop]\n",
    "    return ' '.join(words)"
   ]
  },
  {
   "cell_type": "code",
   "execution_count": null,
   "id": "09096118",
   "metadata": {},
   "outputs": [],
   "source": [
    "tweet0 = tweet[:10]\n",
    "processed_tweet0 = tweet0.apply(process_text)"
   ]
  },
  {
   "cell_type": "code",
   "execution_count": null,
   "id": "cc90caac",
   "metadata": {},
   "outputs": [],
   "source": [
    "def phase_1(lines):\n",
    "    n = len(lines)\n",
    "    lines_thresh_bool = np.ones((n * n,), dtype=np.bool)\n",
    "    for i in range(n):\n",
    "        for j in range(i + 1, n):\n",
    "            line1 = lines[i]\n",
    "            n1 = len(line1)\n",
    "            line2 = lines[j]\n",
    "            n2 = len(line2)\n",
    "            n_max = max(n1, n2)\n",
    "            n_min = min(n1, n2)\n",
    "            count_true = 0\n",
    "            for k in range(n_min):\n",
    "                if line1[k] == line2[k]:\n",
    "                    count_true += 1\n",
    "            thresh_true = round(count_true / n_max, 2)\n",
    "            thresh_false = 1 - thresh_true\n",
    "            if (thresh_true <= 0.25) or (0.75 <= thresh_false):\n",
    "                lines_thresh_bool[(n * i) + j] = False\n",
    "                lines_thresh_bool[i + (n * j)] = False\n",
    "    return lines_thresh_bool.reshape(n, n)"
   ]
  },
  {
   "cell_type": "code",
   "execution_count": null,
   "id": "3ff7c106",
   "metadata": {},
   "outputs": [],
   "source": [
    "sample_lines = ['This is a test', 'Another test line', 'Something different']\n",
    "result = phase_1(sample_lines)"
   ]
  }
 ],
 "metadata": {},
 "nbformat": 4,
 "nbformat_minor": 5
}
